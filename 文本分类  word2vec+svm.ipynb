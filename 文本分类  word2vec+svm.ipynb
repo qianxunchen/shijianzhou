{
 "cells": [
  {
   "cell_type": "code",
   "execution_count": 1,
   "metadata": {},
   "outputs": [
    {
     "data": {
      "text/html": [
       "<div>\n",
       "<style scoped>\n",
       "    .dataframe tbody tr th:only-of-type {\n",
       "        vertical-align: middle;\n",
       "    }\n",
       "\n",
       "    .dataframe tbody tr th {\n",
       "        vertical-align: top;\n",
       "    }\n",
       "\n",
       "    .dataframe thead th {\n",
       "        text-align: right;\n",
       "    }\n",
       "</style>\n",
       "<table border=\"1\" class=\"dataframe\">\n",
       "  <thead>\n",
       "    <tr style=\"text-align: right;\">\n",
       "      <th></th>\n",
       "      <th>label</th>\n",
       "      <th>review</th>\n",
       "    </tr>\n",
       "  </thead>\n",
       "  <tbody>\n",
       "    <tr>\n",
       "      <th>9372</th>\n",
       "      <td>0</td>\n",
       "      <td>少送一个米饭</td>\n",
       "    </tr>\n",
       "    <tr>\n",
       "      <th>1909</th>\n",
       "      <td>1</td>\n",
       "      <td>还可以，包装干净卫生</td>\n",
       "    </tr>\n",
       "    <tr>\n",
       "      <th>8391</th>\n",
       "      <td>0</td>\n",
       "      <td>十一点40多时说15分钟后到，结构一直等到快一点。</td>\n",
       "    </tr>\n",
       "    <tr>\n",
       "      <th>46</th>\n",
       "      <td>1</td>\n",
       "      <td>态度很好,地址填错了还是给我跑了一趟,没有表现出不愿意的样子,为了这个快递员,我写了评论</td>\n",
       "    </tr>\n",
       "    <tr>\n",
       "      <th>6642</th>\n",
       "      <td>0</td>\n",
       "      <td>忍无可忍，在中国电子大厦送这么久</td>\n",
       "    </tr>\n",
       "  </tbody>\n",
       "</table>\n",
       "</div>"
      ],
      "text/plain": [
       "      label                                        review\n",
       "9372      0                                        少送一个米饭\n",
       "1909      1                                    还可以，包装干净卫生\n",
       "8391      0                     十一点40多时说15分钟后到，结构一直等到快一点。\n",
       "46        1  态度很好,地址填错了还是给我跑了一趟,没有表现出不愿意的样子,为了这个快递员,我写了评论\n",
       "6642      0                              忍无可忍，在中国电子大厦送这么久"
      ]
     },
     "execution_count": 1,
     "metadata": {},
     "output_type": "execute_result"
    }
   ],
   "source": [
    "import pandas as pd\n",
    "import numpy as np\n",
    "import jieba\n",
    "from gensim.models.word2vec import Word2Vec\n",
    "from sklearn.model_selection import train_test_split\n",
    "from sklearn import svm\n",
    "from sklearn.metrics import classification_report,roc_auc_score,accuracy_score\n",
    "from sklearn.model_selection import *\n",
    "from sklearn.utils import shuffle \n",
    "# 导入数据\n",
    "data = pd.read_csv('data/waimai_10k.csv')\n",
    "data = shuffle(data)#将数据打乱\n",
    "data.tail()"
   ]
  },
  {
   "cell_type": "code",
   "execution_count": 2,
   "metadata": {},
   "outputs": [],
   "source": [
    "# !pip install gensim -i https://pypi.doubanio.com/simple/  --trusted-host pypi.doubanio.com"
   ]
  },
  {
   "cell_type": "code",
   "execution_count": 3,
   "metadata": {},
   "outputs": [
    {
     "name": "stderr",
     "output_type": "stream",
     "text": [
      "Building prefix dict from the default dictionary ...\n",
      "Loading model from cache C:\\Users\\lenovo\\AppData\\Local\\Temp\\jieba.cache\n",
      "Loading model cost 0.715 seconds.\n",
      "Prefix dict has been built successfully.\n"
     ]
    },
    {
     "data": {
      "text/html": [
       "<div>\n",
       "<style scoped>\n",
       "    .dataframe tbody tr th:only-of-type {\n",
       "        vertical-align: middle;\n",
       "    }\n",
       "\n",
       "    .dataframe tbody tr th {\n",
       "        vertical-align: top;\n",
       "    }\n",
       "\n",
       "    .dataframe thead th {\n",
       "        text-align: right;\n",
       "    }\n",
       "</style>\n",
       "<table border=\"1\" class=\"dataframe\">\n",
       "  <thead>\n",
       "    <tr style=\"text-align: right;\">\n",
       "      <th></th>\n",
       "      <th>label</th>\n",
       "      <th>review</th>\n",
       "    </tr>\n",
       "  </thead>\n",
       "  <tbody>\n",
       "    <tr>\n",
       "      <th>3678</th>\n",
       "      <td>1</td>\n",
       "      <td>送餐 服务 热情 美味</td>\n",
       "    </tr>\n",
       "    <tr>\n",
       "      <th>8786</th>\n",
       "      <td>0</td>\n",
       "      <td>总体 送餐 时间 快 干炸 小黄鱼 梧桐 花 鸡蛋 炒 韭菜 味道 东边 拉皮 辣 备注 信...</td>\n",
       "    </tr>\n",
       "    <tr>\n",
       "      <th>10530</th>\n",
       "      <td>0</td>\n",
       "      <td>菜 淡 味 就肠 还行</td>\n",
       "    </tr>\n",
       "    <tr>\n",
       "      <th>1373</th>\n",
       "      <td>1</td>\n",
       "      <td>送餐 哥们 特</td>\n",
       "    </tr>\n",
       "    <tr>\n",
       "      <th>379</th>\n",
       "      <td>1</td>\n",
       "      <td>点 三个 菜 师傅 拿来 六 盒子 量 很大 千叶 豆腐 包菜 咸了 点 鱼香肉丝 咸淡 刚...</td>\n",
       "    </tr>\n",
       "  </tbody>\n",
       "</table>\n",
       "</div>"
      ],
      "text/plain": [
       "       label                                             review\n",
       "3678       1                                        送餐 服务 热情 美味\n",
       "8786       0  总体 送餐 时间 快 干炸 小黄鱼 梧桐 花 鸡蛋 炒 韭菜 味道 东边 拉皮 辣 备注 信...\n",
       "10530      0                                        菜 淡 味 就肠 还行\n",
       "1373       1                                            送餐 哥们 特\n",
       "379        1  点 三个 菜 师傅 拿来 六 盒子 量 很大 千叶 豆腐 包菜 咸了 点 鱼香肉丝 咸淡 刚..."
      ]
     },
     "execution_count": 3,
     "metadata": {},
     "output_type": "execute_result"
    }
   ],
   "source": [
    "# 去除英文与数字，符号,采用replace方法\n",
    "data.review = data.review.str.replace('[0-9a-zA-Z]','')\n",
    "#文本分词\n",
    "\n",
    "with open(\"data/stop_words\",encoding='utf-8') as words:\n",
    "    stop_word = [i.strip() for i in words.readlines()]\n",
    "\n",
    "def word_cut(word_data):\n",
    "    w = [i for i in jieba.cut(word_data,cut_all=False) if i not in stop_word]\n",
    "    result = ' '.join(w)\n",
    "    return result\n",
    "\n",
    "data['review'] = data.review.apply(word_cut)\n",
    "data.head()"
   ]
  },
  {
   "cell_type": "code",
   "execution_count": 4,
   "metadata": {},
   "outputs": [],
   "source": [
    "# 训练词向量\n",
    "word2 = Word2Vec(data.review) \n",
    "word2.save(\"model/word2.model\")"
   ]
  },
  {
   "cell_type": "code",
   "execution_count": 5,
   "metadata": {},
   "outputs": [
    {
     "data": {
      "text/plain": [
       "<gensim.models.word2vec.Word2Vec at 0xb1e6c18>"
      ]
     },
     "execution_count": 5,
     "metadata": {},
     "output_type": "execute_result"
    }
   ],
   "source": [
    "word2"
   ]
  },
  {
   "cell_type": "code",
   "execution_count": 6,
   "metadata": {},
   "outputs": [],
   "source": [
    "def total_vector(words):\n",
    "    vec = np.zeros(100).reshape((1, 100))\n",
    "    for word in words:\n",
    "        try:\n",
    "            vec += word2.wv[word].reshape((1, 100))\n",
    "        except KeyError:\n",
    "            continue\n",
    "    return vec"
   ]
  },
  {
   "cell_type": "code",
   "execution_count": 7,
   "metadata": {},
   "outputs": [],
   "source": [
    "train_vec = np.concatenate([total_vector(words) for words in data.review])"
   ]
  },
  {
   "cell_type": "code",
   "execution_count": 8,
   "metadata": {},
   "outputs": [
    {
     "data": {
      "text/plain": [
       "array([[ -0.24263305,   0.61289017,  -0.03686696, ...,  -3.72922665,\n",
       "         -2.4413017 ,   5.87703164],\n",
       "       [ 13.18821565, -17.65611641,  15.80567531, ...,  -5.41617816,\n",
       "        -18.22524045,   6.47902302],\n",
       "       [  1.67405354,  -0.26685781,   1.07394729, ...,   0.48155849,\n",
       "         -3.5358381 ,   0.29535586],\n",
       "       ...,\n",
       "       [  2.40132083,  -3.79045035,   7.22312622, ...,  -3.42341136,\n",
       "          4.47148358,   3.39113457],\n",
       "       [  3.75973833,  -0.94046687,   0.75299377, ...,  -9.34318598,\n",
       "         -2.8327899 ,  12.05879644],\n",
       "       [  1.9124626 ,  -0.89869567,   1.82489125, ...,  -4.41543982,\n",
       "          0.35172408,   4.89323728]])"
      ]
     },
     "execution_count": 8,
     "metadata": {},
     "output_type": "execute_result"
    }
   ],
   "source": [
    "train_vec"
   ]
  },
  {
   "cell_type": "code",
   "execution_count": 9,
   "metadata": {},
   "outputs": [],
   "source": [
    "x_train,x_test,y_train,y_test = train_test_split(train_vec,data.label,test_size=0.3,random_state=0)\n"
   ]
  },
  {
   "cell_type": "code",
   "execution_count": 10,
   "metadata": {},
   "outputs": [
    {
     "data": {
      "text/plain": [
       "array([1, 0, 0, ..., 0, 0, 0], dtype=int64)"
      ]
     },
     "execution_count": 10,
     "metadata": {},
     "output_type": "execute_result"
    }
   ],
   "source": [
    "svm_model = svm.SVC()\n",
    "svm_model.fit(x_train,y_train)\n",
    "y_predict = svm_model.predict(x_test)\n",
    "y_predict"
   ]
  },
  {
   "cell_type": "code",
   "execution_count": 11,
   "metadata": {},
   "outputs": [
    {
     "name": "stdout",
     "output_type": "stream",
     "text": [
      "SVM模型的准确率为：\n",
      " 0.7984431470670003\n",
      "SVM模型的评估报告：\n",
      "              precision    recall  f1-score   support\n",
      "\n",
      "          0       0.79      0.94      0.86      2377\n",
      "          1       0.82      0.52      0.64      1220\n",
      "\n",
      "avg / total       0.80      0.80      0.78      3597\n",
      "\n"
     ]
    }
   ],
   "source": [
    "print('SVM模型的准确率为：\\n',accuracy_score(y_test, y_predict))\n",
    "print('SVM模型的评估报告：\\n',classification_report(y_test, y_predict))"
   ]
  },
  {
   "cell_type": "code",
   "execution_count": 12,
   "metadata": {},
   "outputs": [],
   "source": [
    "def svm_predict(query):\n",
    "    words = jieba.lcut(str(query))\n",
    "    words_vec = total_vector(words)\n",
    "    result = svm_model.predict(words_vec)\n",
    "    if int(result) == 1:\n",
    "        print('类别：好评')\n",
    "    elif int(result) == 0:\n",
    "        print('类别：差评')"
   ]
  },
  {
   "cell_type": "code",
   "execution_count": 13,
   "metadata": {},
   "outputs": [
    {
     "name": "stdout",
     "output_type": "stream",
     "text": [
      "类别：差评\n"
     ]
    }
   ],
   "source": [
    "svm_predict(\"外卖，师傅都一级棒。师傅还主动帮忙帮我把垃圾带下去，太贴心了\")"
   ]
  },
  {
   "cell_type": "code",
   "execution_count": 14,
   "metadata": {},
   "outputs": [
    {
     "name": "stdout",
     "output_type": "stream",
     "text": [
      "类别：好评\n"
     ]
    }
   ],
   "source": [
    "svm_predict(\"好吃，味道很好\")"
   ]
  },
  {
   "cell_type": "code",
   "execution_count": null,
   "metadata": {},
   "outputs": [],
   "source": []
  },
  {
   "cell_type": "code",
   "execution_count": null,
   "metadata": {},
   "outputs": [],
   "source": []
  },
  {
   "cell_type": "code",
   "execution_count": null,
   "metadata": {},
   "outputs": [],
   "source": []
  }
 ],
 "metadata": {
  "kernelspec": {
   "display_name": "Python 3",
   "language": "python",
   "name": "python3"
  },
  "language_info": {
   "codemirror_mode": {
    "name": "ipython",
    "version": 3
   },
   "file_extension": ".py",
   "mimetype": "text/x-python",
   "name": "python",
   "nbconvert_exporter": "python",
   "pygments_lexer": "ipython3",
   "version": "3.7.0"
  }
 },
 "nbformat": 4,
 "nbformat_minor": 2
}
