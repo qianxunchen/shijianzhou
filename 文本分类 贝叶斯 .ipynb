{
 "cells": [
  {
   "cell_type": "code",
   "execution_count": 2,
   "metadata": {},
   "outputs": [],
   "source": [
    "import pandas as pd\n",
    "import numpy as np\n",
    "from sklearn.naive_bayes import GaussianNB\n",
    "from sklearn.feature_extraction.text import CountVectorizer\n",
    "from sklearn.utils import shuffle"
   ]
  },
  {
   "cell_type": "code",
   "execution_count": 3,
   "metadata": {},
   "outputs": [
    {
     "data": {
      "text/html": [
       "<div>\n",
       "<style scoped>\n",
       "    .dataframe tbody tr th:only-of-type {\n",
       "        vertical-align: middle;\n",
       "    }\n",
       "\n",
       "    .dataframe tbody tr th {\n",
       "        vertical-align: top;\n",
       "    }\n",
       "\n",
       "    .dataframe thead th {\n",
       "        text-align: right;\n",
       "    }\n",
       "</style>\n",
       "<table border=\"1\" class=\"dataframe\">\n",
       "  <thead>\n",
       "    <tr style=\"text-align: right;\">\n",
       "      <th></th>\n",
       "      <th>label</th>\n",
       "      <th>review</th>\n",
       "    </tr>\n",
       "  </thead>\n",
       "  <tbody>\n",
       "    <tr>\n",
       "      <th>9975</th>\n",
       "      <td>0</td>\n",
       "      <td>定的辣牛肉汤套餐，那么冷的天·两个小时才到，汤只剩下余温了·我也饿的不行了·太慢太慢太慢了！...</td>\n",
       "    </tr>\n",
       "    <tr>\n",
       "      <th>8419</th>\n",
       "      <td>0</td>\n",
       "      <td>今天的饭夹生的…给送餐员加工资！</td>\n",
       "    </tr>\n",
       "    <tr>\n",
       "      <th>11867</th>\n",
       "      <td>0</td>\n",
       "      <td>木耳太不新鲜，吃完拉肚子了</td>\n",
       "    </tr>\n",
       "    <tr>\n",
       "      <th>1261</th>\n",
       "      <td>1</td>\n",
       "      <td>送餐送的很快，比预计的还早，不错不错</td>\n",
       "    </tr>\n",
       "    <tr>\n",
       "      <th>9977</th>\n",
       "      <td>0</td>\n",
       "      <td>不好吃,都凉了,汤顶上一层大油,送餐时间1个半小时,米饭是夹生的,最难吃的料理,以后再也不定...</td>\n",
       "    </tr>\n",
       "  </tbody>\n",
       "</table>\n",
       "</div>"
      ],
      "text/plain": [
       "       label                                             review\n",
       "9975       0  定的辣牛肉汤套餐，那么冷的天·两个小时才到，汤只剩下余温了·我也饿的不行了·太慢太慢太慢了！...\n",
       "8419       0                                   今天的饭夹生的…给送餐员加工资！\n",
       "11867      0                                      木耳太不新鲜，吃完拉肚子了\n",
       "1261       1                                 送餐送的很快，比预计的还早，不错不错\n",
       "9977       0  不好吃,都凉了,汤顶上一层大油,送餐时间1个半小时,米饭是夹生的,最难吃的料理,以后再也不定..."
      ]
     },
     "execution_count": 3,
     "metadata": {},
     "output_type": "execute_result"
    }
   ],
   "source": [
    "data = pd.read_csv(\"data/waimai_10k.csv\")\n",
    "data = shuffle(data)\n",
    "data.head()"
   ]
  },
  {
   "cell_type": "code",
   "execution_count": 4,
   "metadata": {},
   "outputs": [
    {
     "data": {
      "text/plain": [
       "0    7987\n",
       "1    4000\n",
       "Name: label, dtype: int64"
      ]
     },
     "execution_count": 4,
     "metadata": {},
     "output_type": "execute_result"
    }
   ],
   "source": [
    "data.label.value_counts()"
   ]
  },
  {
   "cell_type": "code",
   "execution_count": 4,
   "metadata": {},
   "outputs": [
    {
     "data": {
      "text/html": [
       "<div>\n",
       "<style scoped>\n",
       "    .dataframe tbody tr th:only-of-type {\n",
       "        vertical-align: middle;\n",
       "    }\n",
       "\n",
       "    .dataframe tbody tr th {\n",
       "        vertical-align: top;\n",
       "    }\n",
       "\n",
       "    .dataframe thead th {\n",
       "        text-align: right;\n",
       "    }\n",
       "</style>\n",
       "<table border=\"1\" class=\"dataframe\">\n",
       "  <thead>\n",
       "    <tr style=\"text-align: right;\">\n",
       "      <th></th>\n",
       "      <th>label</th>\n",
       "      <th>review</th>\n",
       "    </tr>\n",
       "  </thead>\n",
       "  <tbody>\n",
       "    <tr>\n",
       "      <th>6318</th>\n",
       "      <td>0</td>\n",
       "      <td>说好的石锅拌饭呢，差评</td>\n",
       "    </tr>\n",
       "    <tr>\n",
       "      <th>8619</th>\n",
       "      <td>0</td>\n",
       "      <td>现在每次都不是准时送达</td>\n",
       "    </tr>\n",
       "    <tr>\n",
       "      <th>2020</th>\n",
       "      <td>1</td>\n",
       "      <td>好实在的卷饼,够值</td>\n",
       "    </tr>\n",
       "    <tr>\n",
       "      <th>9420</th>\n",
       "      <td>0</td>\n",
       "      <td>每次肯定晚至少一个小时，下单了最后没送到，真是醉了，饭也给的死少。不建议大家订餐，如果非要吃...</td>\n",
       "    </tr>\n",
       "    <tr>\n",
       "      <th>7286</th>\n",
       "      <td>0</td>\n",
       "      <td>咖啡到了几乎凉了，还撒了好多，以后不会用百度外卖代购咖啡了</td>\n",
       "    </tr>\n",
       "  </tbody>\n",
       "</table>\n",
       "</div>"
      ],
      "text/plain": [
       "      label                                             review\n",
       "6318      0                                        说好的石锅拌饭呢，差评\n",
       "8619      0                                        现在每次都不是准时送达\n",
       "2020      1                                          好实在的卷饼,够值\n",
       "9420      0  每次肯定晚至少一个小时，下单了最后没送到，真是醉了，饭也给的死少。不建议大家订餐，如果非要吃...\n",
       "7286      0                      咖啡到了几乎凉了，还撒了好多，以后不会用百度外卖代购咖啡了"
      ]
     },
     "execution_count": 4,
     "metadata": {},
     "output_type": "execute_result"
    }
   ],
   "source": [
    "# 去除英文与数字，符号,采用replace方法\n",
    "data.review = data.review.str.replace('[0-9a-zA-Z]','')\n",
    "data.head()"
   ]
  },
  {
   "cell_type": "code",
   "execution_count": null,
   "metadata": {},
   "outputs": [],
   "source": []
  },
  {
   "cell_type": "code",
   "execution_count": 5,
   "metadata": {},
   "outputs": [
    {
     "name": "stderr",
     "output_type": "stream",
     "text": [
      "Building prefix dict from the default dictionary ...\n",
      "Loading model from cache C:\\Users\\lenovo\\AppData\\Local\\Temp\\jieba.cache\n",
      "Loading model cost 0.702 seconds.\n",
      "Prefix dict has been built successfully.\n"
     ]
    },
    {
     "data": {
      "text/plain": [
       "6318                                         说好 石锅 拌 饭 差评\n",
       "8619                                             每次 准时 送达\n",
       "2020                                            实在 卷 饼 够值\n",
       "9420    每次 肯定 晚 至少 小时 下单 没 送到 醉 饭 死 少 建议 订餐 非要 吃 提前 订 ...\n",
       "7286                                咖啡 凉 撒 好多 百度 外卖 代购 咖啡\n",
       "Name: review, dtype: object"
      ]
     },
     "execution_count": 5,
     "metadata": {},
     "output_type": "execute_result"
    }
   ],
   "source": [
    "#文本分词\n",
    "import jieba\n",
    "\n",
    "with open(\"data/stop_words\",encoding='utf-8') as words:\n",
    "    stop_word = [i.strip() for i in words.readlines()]\n",
    "\n",
    "    \n",
    "def word_cut(word_data):\n",
    "    w = [i for i in jieba.cut(word_data) if i not in stop_word]\n",
    "    result = ' '.join(w)\n",
    "    return result\n",
    "\n",
    "ww = data.review.apply(word_cut)\n",
    "ww[:5]"
   ]
  },
  {
   "cell_type": "code",
   "execution_count": 6,
   "metadata": {},
   "outputs": [
    {
     "data": {
      "text/html": [
       "<div>\n",
       "<style scoped>\n",
       "    .dataframe tbody tr th:only-of-type {\n",
       "        vertical-align: middle;\n",
       "    }\n",
       "\n",
       "    .dataframe tbody tr th {\n",
       "        vertical-align: top;\n",
       "    }\n",
       "\n",
       "    .dataframe thead th {\n",
       "        text-align: right;\n",
       "    }\n",
       "</style>\n",
       "<table border=\"1\" class=\"dataframe\">\n",
       "  <thead>\n",
       "    <tr style=\"text-align: right;\">\n",
       "      <th></th>\n",
       "      <th>一个半</th>\n",
       "      <th>一个多</th>\n",
       "      <th>一份</th>\n",
       "      <th>一点</th>\n",
       "      <th>下单</th>\n",
       "      <th>下次</th>\n",
       "      <th>不到</th>\n",
       "      <th>不好</th>\n",
       "      <th>不错</th>\n",
       "      <th>东西</th>\n",
       "      <th>...</th>\n",
       "      <th>送达</th>\n",
       "      <th>送过来</th>\n",
       "      <th>送错</th>\n",
       "      <th>送餐</th>\n",
       "      <th>速度</th>\n",
       "      <th>配送</th>\n",
       "      <th>难吃</th>\n",
       "      <th>餐员</th>\n",
       "      <th>骑士</th>\n",
       "      <th>鸡肉</th>\n",
       "    </tr>\n",
       "  </thead>\n",
       "  <tbody>\n",
       "    <tr>\n",
       "      <th>0</th>\n",
       "      <td>0</td>\n",
       "      <td>0</td>\n",
       "      <td>0</td>\n",
       "      <td>0</td>\n",
       "      <td>0</td>\n",
       "      <td>0</td>\n",
       "      <td>0</td>\n",
       "      <td>0</td>\n",
       "      <td>0</td>\n",
       "      <td>0</td>\n",
       "      <td>...</td>\n",
       "      <td>0</td>\n",
       "      <td>0</td>\n",
       "      <td>0</td>\n",
       "      <td>0</td>\n",
       "      <td>0</td>\n",
       "      <td>0</td>\n",
       "      <td>0</td>\n",
       "      <td>0</td>\n",
       "      <td>0</td>\n",
       "      <td>0</td>\n",
       "    </tr>\n",
       "    <tr>\n",
       "      <th>1</th>\n",
       "      <td>0</td>\n",
       "      <td>0</td>\n",
       "      <td>0</td>\n",
       "      <td>0</td>\n",
       "      <td>0</td>\n",
       "      <td>0</td>\n",
       "      <td>0</td>\n",
       "      <td>0</td>\n",
       "      <td>0</td>\n",
       "      <td>0</td>\n",
       "      <td>...</td>\n",
       "      <td>1</td>\n",
       "      <td>0</td>\n",
       "      <td>0</td>\n",
       "      <td>0</td>\n",
       "      <td>0</td>\n",
       "      <td>0</td>\n",
       "      <td>0</td>\n",
       "      <td>0</td>\n",
       "      <td>0</td>\n",
       "      <td>0</td>\n",
       "    </tr>\n",
       "    <tr>\n",
       "      <th>2</th>\n",
       "      <td>0</td>\n",
       "      <td>0</td>\n",
       "      <td>0</td>\n",
       "      <td>0</td>\n",
       "      <td>0</td>\n",
       "      <td>0</td>\n",
       "      <td>0</td>\n",
       "      <td>0</td>\n",
       "      <td>0</td>\n",
       "      <td>0</td>\n",
       "      <td>...</td>\n",
       "      <td>0</td>\n",
       "      <td>0</td>\n",
       "      <td>0</td>\n",
       "      <td>0</td>\n",
       "      <td>0</td>\n",
       "      <td>0</td>\n",
       "      <td>0</td>\n",
       "      <td>0</td>\n",
       "      <td>0</td>\n",
       "      <td>0</td>\n",
       "    </tr>\n",
       "    <tr>\n",
       "      <th>3</th>\n",
       "      <td>0</td>\n",
       "      <td>0</td>\n",
       "      <td>0</td>\n",
       "      <td>0</td>\n",
       "      <td>1</td>\n",
       "      <td>0</td>\n",
       "      <td>0</td>\n",
       "      <td>0</td>\n",
       "      <td>0</td>\n",
       "      <td>0</td>\n",
       "      <td>...</td>\n",
       "      <td>0</td>\n",
       "      <td>0</td>\n",
       "      <td>0</td>\n",
       "      <td>0</td>\n",
       "      <td>0</td>\n",
       "      <td>0</td>\n",
       "      <td>0</td>\n",
       "      <td>0</td>\n",
       "      <td>0</td>\n",
       "      <td>0</td>\n",
       "    </tr>\n",
       "    <tr>\n",
       "      <th>4</th>\n",
       "      <td>0</td>\n",
       "      <td>0</td>\n",
       "      <td>0</td>\n",
       "      <td>0</td>\n",
       "      <td>0</td>\n",
       "      <td>0</td>\n",
       "      <td>0</td>\n",
       "      <td>0</td>\n",
       "      <td>0</td>\n",
       "      <td>0</td>\n",
       "      <td>...</td>\n",
       "      <td>0</td>\n",
       "      <td>0</td>\n",
       "      <td>0</td>\n",
       "      <td>0</td>\n",
       "      <td>0</td>\n",
       "      <td>0</td>\n",
       "      <td>0</td>\n",
       "      <td>0</td>\n",
       "      <td>0</td>\n",
       "      <td>0</td>\n",
       "    </tr>\n",
       "  </tbody>\n",
       "</table>\n",
       "<p>5 rows × 72 columns</p>\n",
       "</div>"
      ],
      "text/plain": [
       "   一个半  一个多  一份  一点  下单  下次  不到  不好  不错  东西 ...  送达  送过来  送错  送餐  速度  配送  难吃  \\\n",
       "0    0    0   0   0   0   0   0   0   0   0 ...   0    0   0   0   0   0   0   \n",
       "1    0    0   0   0   0   0   0   0   0   0 ...   1    0   0   0   0   0   0   \n",
       "2    0    0   0   0   0   0   0   0   0   0 ...   0    0   0   0   0   0   0   \n",
       "3    0    0   0   0   1   0   0   0   0   0 ...   0    0   0   0   0   0   0   \n",
       "4    0    0   0   0   0   0   0   0   0   0 ...   0    0   0   0   0   0   0   \n",
       "\n",
       "   餐员  骑士  鸡肉  \n",
       "0   0   0   0  \n",
       "1   0   0   0  \n",
       "2   0   0   0  \n",
       "3   0   0   0  \n",
       "4   0   0   0  \n",
       "\n",
       "[5 rows x 72 columns]"
      ]
     },
     "execution_count": 6,
     "metadata": {},
     "output_type": "execute_result"
    }
   ],
   "source": [
    "\n",
    "counts = CountVectorizer(min_df=0.01)\n",
    "# 构建矩阵\n",
    "dtm_counts = counts.fit_transform(ww).toarray()\n",
    "columns = counts.get_feature_names()\n",
    "X = pd.DataFrame(dtm_counts,columns=columns)\n",
    "Y = data.label\n",
    "X.head()"
   ]
  },
  {
   "cell_type": "code",
   "execution_count": 7,
   "metadata": {},
   "outputs": [
    {
     "name": "stdout",
     "output_type": "stream",
     "text": [
      "伯努利模型的准确率为：\n",
      " 0.7997997997997998\n",
      "伯努利模型的评估报告：\n",
      "              precision    recall  f1-score   support\n",
      "\n",
      "          0       0.83      0.88      0.86      2008\n",
      "          1       0.73      0.63      0.67       989\n",
      "\n",
      "avg / total       0.80      0.80      0.80      2997\n",
      "\n"
     ]
    }
   ],
   "source": [
    "from sklearn import model_selection\n",
    "from sklearn import naive_bayes\n",
    "from sklearn import metrics\n",
    "# 将数据集拆分为训练集和测试集\n",
    "X_train,X_test,y_train,y_test = model_selection.train_test_split(X,Y,test_size = 0.25, random_state=1)\n",
    "# 构建伯努利贝叶斯分类器\n",
    "bnb = naive_bayes.BernoulliNB()\n",
    "gnb = GaussianNB()\n",
    "# 模型在训练数据集上的拟合\n",
    "bnb.fit(X_train,y_train)\n",
    "# 模型在测试数据集上的预测\n",
    "bnb_pred = bnb.predict(X_test)\n",
    "# 模型的预测准确率\n",
    "print('伯努利模型的准确率为：\\n',metrics.accuracy_score(y_test, bnb_pred))\n",
    "print('伯努利模型的评估报告：\\n',metrics.classification_report(y_test, bnb_pred))"
   ]
  },
  {
   "cell_type": "code",
   "execution_count": 8,
   "metadata": {},
   "outputs": [
    {
     "name": "stdout",
     "output_type": "stream",
     "text": [
      "高斯模型的准确率为：\n",
      " 0.6376376376376376\n",
      "高斯模型的评估报告：\n",
      "              precision    recall  f1-score   support\n",
      "\n",
      "          0       0.92      0.50      0.65      2008\n",
      "          1       0.47      0.91      0.62       989\n",
      "\n",
      "avg / total       0.77      0.64      0.64      2997\n",
      "\n"
     ]
    }
   ],
   "source": [
    "from sklearn import model_selection\n",
    "from sklearn import naive_bayes\n",
    "from sklearn import metrics\n",
    "# 将数据集拆分为训练集和测试集\n",
    "X_train,X_test,y_train,y_test = model_selection.train_test_split(X,Y,test_size = 0.25, random_state=1)\n",
    "gnb = GaussianNB()\n",
    "# 模型在训练数据集上的拟合\n",
    "gnb.fit(X_train,y_train)\n",
    "# 模型在测试数据集上的预测\n",
    "gnb_pred = gnb.predict(X_test)\n",
    "# 模型的预测准确率\n",
    "print('高斯模型的准确率为：\\n',metrics.accuracy_score(y_test, gnb_pred))\n",
    "print('高斯模型的评估报告：\\n',metrics.classification_report(y_test, gnb_pred))"
   ]
  },
  {
   "cell_type": "code",
   "execution_count": 9,
   "metadata": {},
   "outputs": [
    {
     "name": "stdout",
     "output_type": "stream",
     "text": [
      "多项式模型的准确率为：\n",
      " 0.8014681348014682\n",
      "多项式模型的评估报告：\n",
      "              precision    recall  f1-score   support\n",
      "\n",
      "          0       0.83      0.88      0.86      2008\n",
      "          1       0.73      0.63      0.68       989\n",
      "\n",
      "avg / total       0.80      0.80      0.80      2997\n",
      "\n"
     ]
    }
   ],
   "source": [
    "from sklearn import model_selection\n",
    "from sklearn import naive_bayes\n",
    "from sklearn import metrics\n",
    "# 将数据集拆分为训练集和测试集\n",
    "X_train,X_test,y_train,y_test = model_selection.train_test_split(X,Y,test_size = 0.25, random_state=1)\n",
    "mnb = naive_bayes.MultinomialNB()\n",
    "# 模型在训练数据集上的拟合\n",
    "mnb.fit(X_train,y_train)\n",
    "# 模型在测试数据集上的预测\n",
    "mnb_pred = mnb.predict(X_test)\n",
    "# 模型的预测准确率\n",
    "print('多项式模型的准确率为：\\n',metrics.accuracy_score(y_test, mnb_pred))\n",
    "print('多项式模型的评估报告：\\n',metrics.classification_report(y_test, mnb_pred))"
   ]
  },
  {
   "cell_type": "code",
   "execution_count": null,
   "metadata": {},
   "outputs": [],
   "source": []
  },
  {
   "cell_type": "code",
   "execution_count": null,
   "metadata": {},
   "outputs": [],
   "source": []
  },
  {
   "cell_type": "code",
   "execution_count": null,
   "metadata": {},
   "outputs": [],
   "source": []
  },
  {
   "cell_type": "code",
   "execution_count": null,
   "metadata": {},
   "outputs": [],
   "source": []
  }
 ],
 "metadata": {
  "kernelspec": {
   "display_name": "Python 3",
   "language": "python",
   "name": "python3"
  },
  "language_info": {
   "codemirror_mode": {
    "name": "ipython",
    "version": 3
   },
   "file_extension": ".py",
   "mimetype": "text/x-python",
   "name": "python",
   "nbconvert_exporter": "python",
   "pygments_lexer": "ipython3",
   "version": "3.7.0"
  }
 },
 "nbformat": 4,
 "nbformat_minor": 2
}
