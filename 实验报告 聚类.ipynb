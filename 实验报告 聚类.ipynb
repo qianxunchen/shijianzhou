{
 "cells": [
  {
   "cell_type": "markdown",
   "metadata": {},
   "source": [
    "# Kmeans(基于划分)"
   ]
  },
  {
   "cell_type": "markdown",
   "metadata": {},
   "source": [
    "轮廓系数结合了聚类的凝聚度和分离度，用于评估聚类的效果。该值取值范围为[-1 ,1]， 越接近1则说明分类越优秀。在sklearn中函数silhouette_score()计算所有点的平均轮廓系数，而silhouette_samples()返回每个点的轮廓系数"
   ]
  },
  {
   "cell_type": "code",
   "execution_count": 13,
   "metadata": {},
   "outputs": [
    {
     "data": {
      "text/html": [
       "<div>\n",
       "<style scoped>\n",
       "    .dataframe tbody tr th:only-of-type {\n",
       "        vertical-align: middle;\n",
       "    }\n",
       "\n",
       "    .dataframe tbody tr th {\n",
       "        vertical-align: top;\n",
       "    }\n",
       "\n",
       "    .dataframe thead th {\n",
       "        text-align: right;\n",
       "    }\n",
       "</style>\n",
       "<table border=\"1\" class=\"dataframe\">\n",
       "  <thead>\n",
       "    <tr style=\"text-align: right;\">\n",
       "      <th></th>\n",
       "      <th>Feature_1</th>\n",
       "      <th>Feature_2</th>\n",
       "      <th>Feature_3</th>\n",
       "      <th>Feature_4</th>\n",
       "      <th>Feature_5</th>\n",
       "      <th>Feature_6</th>\n",
       "      <th>Feature_7</th>\n",
       "    </tr>\n",
       "  </thead>\n",
       "  <tbody>\n",
       "    <tr>\n",
       "      <th>0</th>\n",
       "      <td>6.572897</td>\n",
       "      <td>-5.172835</td>\n",
       "      <td>2.741810</td>\n",
       "      <td>-2.273339</td>\n",
       "      <td>-5.050879</td>\n",
       "      <td>5.292106</td>\n",
       "      <td>3.226456</td>\n",
       "    </tr>\n",
       "    <tr>\n",
       "      <th>1</th>\n",
       "      <td>-7.156458</td>\n",
       "      <td>-5.985348</td>\n",
       "      <td>-5.031591</td>\n",
       "      <td>-4.150187</td>\n",
       "      <td>-8.233108</td>\n",
       "      <td>-4.271970</td>\n",
       "      <td>12.694242</td>\n",
       "    </tr>\n",
       "    <tr>\n",
       "      <th>2</th>\n",
       "      <td>-4.631283</td>\n",
       "      <td>1.043873</td>\n",
       "      <td>-1.362041</td>\n",
       "      <td>-8.999582</td>\n",
       "      <td>-7.406887</td>\n",
       "      <td>-1.848032</td>\n",
       "      <td>12.250691</td>\n",
       "    </tr>\n",
       "    <tr>\n",
       "      <th>3</th>\n",
       "      <td>-5.046997</td>\n",
       "      <td>-1.415594</td>\n",
       "      <td>-5.699884</td>\n",
       "      <td>-6.161301</td>\n",
       "      <td>-6.949402</td>\n",
       "      <td>0.926790</td>\n",
       "      <td>11.114728</td>\n",
       "    </tr>\n",
       "    <tr>\n",
       "      <th>4</th>\n",
       "      <td>-10.353180</td>\n",
       "      <td>-1.018143</td>\n",
       "      <td>-3.243667</td>\n",
       "      <td>-2.366646</td>\n",
       "      <td>-8.209471</td>\n",
       "      <td>-0.859586</td>\n",
       "      <td>10.090310</td>\n",
       "    </tr>\n",
       "    <tr>\n",
       "      <th>...</th>\n",
       "      <td>...</td>\n",
       "      <td>...</td>\n",
       "      <td>...</td>\n",
       "      <td>...</td>\n",
       "      <td>...</td>\n",
       "      <td>...</td>\n",
       "      <td>...</td>\n",
       "    </tr>\n",
       "    <tr>\n",
       "      <th>995</th>\n",
       "      <td>1.292512</td>\n",
       "      <td>-3.053487</td>\n",
       "      <td>-1.608255</td>\n",
       "      <td>5.926220</td>\n",
       "      <td>-1.055869</td>\n",
       "      <td>-0.140977</td>\n",
       "      <td>7.845729</td>\n",
       "    </tr>\n",
       "    <tr>\n",
       "      <th>996</th>\n",
       "      <td>5.170071</td>\n",
       "      <td>-6.223113</td>\n",
       "      <td>0.096070</td>\n",
       "      <td>-1.767872</td>\n",
       "      <td>-4.392483</td>\n",
       "      <td>3.590092</td>\n",
       "      <td>2.785955</td>\n",
       "    </tr>\n",
       "    <tr>\n",
       "      <th>997</th>\n",
       "      <td>-6.490728</td>\n",
       "      <td>3.006837</td>\n",
       "      <td>-3.119469</td>\n",
       "      <td>-4.538567</td>\n",
       "      <td>-8.268932</td>\n",
       "      <td>-3.150140</td>\n",
       "      <td>10.837032</td>\n",
       "    </tr>\n",
       "    <tr>\n",
       "      <th>998</th>\n",
       "      <td>-7.691789</td>\n",
       "      <td>1.130620</td>\n",
       "      <td>-4.187140</td>\n",
       "      <td>-4.646578</td>\n",
       "      <td>-9.355274</td>\n",
       "      <td>2.530622</td>\n",
       "      <td>8.928828</td>\n",
       "    </tr>\n",
       "    <tr>\n",
       "      <th>999</th>\n",
       "      <td>6.447578</td>\n",
       "      <td>-3.890438</td>\n",
       "      <td>3.118257</td>\n",
       "      <td>0.492070</td>\n",
       "      <td>-4.957994</td>\n",
       "      <td>4.103937</td>\n",
       "      <td>2.310810</td>\n",
       "    </tr>\n",
       "  </tbody>\n",
       "</table>\n",
       "<p>1000 rows × 7 columns</p>\n",
       "</div>"
      ],
      "text/plain": [
       "     Feature_1  Feature_2  Feature_3  Feature_4  Feature_5  Feature_6  \\\n",
       "0     6.572897  -5.172835   2.741810  -2.273339  -5.050879   5.292106   \n",
       "1    -7.156458  -5.985348  -5.031591  -4.150187  -8.233108  -4.271970   \n",
       "2    -4.631283   1.043873  -1.362041  -8.999582  -7.406887  -1.848032   \n",
       "3    -5.046997  -1.415594  -5.699884  -6.161301  -6.949402   0.926790   \n",
       "4   -10.353180  -1.018143  -3.243667  -2.366646  -8.209471  -0.859586   \n",
       "..         ...        ...        ...        ...        ...        ...   \n",
       "995   1.292512  -3.053487  -1.608255   5.926220  -1.055869  -0.140977   \n",
       "996   5.170071  -6.223113   0.096070  -1.767872  -4.392483   3.590092   \n",
       "997  -6.490728   3.006837  -3.119469  -4.538567  -8.268932  -3.150140   \n",
       "998  -7.691789   1.130620  -4.187140  -4.646578  -9.355274   2.530622   \n",
       "999   6.447578  -3.890438   3.118257   0.492070  -4.957994   4.103937   \n",
       "\n",
       "     Feature_7  \n",
       "0     3.226456  \n",
       "1    12.694242  \n",
       "2    12.250691  \n",
       "3    11.114728  \n",
       "4    10.090310  \n",
       "..         ...  \n",
       "995   7.845729  \n",
       "996   2.785955  \n",
       "997  10.837032  \n",
       "998   8.928828  \n",
       "999   2.310810  \n",
       "\n",
       "[1000 rows x 7 columns]"
      ]
     },
     "execution_count": 13,
     "metadata": {},
     "output_type": "execute_result"
    }
   ],
   "source": [
    "import pandas as pd\n",
    "import numpy as np\n",
    "from sklearn.metrics import silhouette_samples, silhouette_score\n",
    "data = pd.read_csv(\"data/实验报告数据/data_clustering.csv\")\n",
    "data.head()\n",
    "# data = data.iloc[:,[1,2,3,4,5,6,7]]\n",
    "data = data.drop(\"Unnamed: 0\",axis=1)\n",
    "data"
   ]
  },
  {
   "cell_type": "code",
   "execution_count": 14,
   "metadata": {},
   "outputs": [
    {
     "data": {
      "image/png": "[encoded data removed]",
      "text/plain": [
       "<Figure size 576x432 with 1 Axes>"
      ]
     },
     "metadata": {
      "needs_background": "light"
     },
     "output_type": "display_data"
    }
   ],
   "source": [
    "# 计算轮廓系数,寻找最优解K\n",
    "from sklearn.metrics import silhouette_samples, silhouette_score\n",
    "import matplotlib.pyplot as plt\n",
    "from  sklearn.cluster import KMeans\n",
    "plt.rcParams['font.sans-serif'] = ['SimHei']  # 用来正常显示中文标签\n",
    "plt.rcParams['axes.unicode_minus'] = False  # 用来正常显示负号\n",
    "plt.figure(figsize=(8,6))\n",
    "\n",
    "sc=[]\n",
    "for i in range(2,10):\n",
    "    cluster_=KMeans(n_clusters=i,random_state=0).fit(data)\n",
    "    y_pre=cluster_.labels_\n",
    "    sc_=silhouette_score(data,y_pre)\n",
    "    sc.append(sc_)\n",
    "plt.plot(range(2,10),sc,color='red',linewidth=2.0,marker='o')\n",
    "plt.ylabel(\"轮廓系数\")\n",
    "plt.xlabel(\"聚簇数量\")\n",
    "plt.show()"
   ]
  },
  {
   "cell_type": "code",
   "execution_count": 15,
   "metadata": {},
   "outputs": [
    {
     "data": {
      "text/plain": [
       "1    664\n",
       "0    336\n",
       "Name: cluster, dtype: int64"
      ]
     },
     "execution_count": 15,
     "metadata": {},
     "output_type": "execute_result"
    }
   ],
   "source": [
    "from sklearn.cluster import KMeans\n",
    "# 最优解 k = 2\n",
    "km = KMeans(n_clusters=2)\n",
    "km.fit(data)\n",
    "data['cluster'] = km.labels_\n",
    "# 各类频数统计\n",
    "data.cluster.value_counts()"
   ]
  },
  {
   "cell_type": "code",
   "execution_count": 16,
   "metadata": {},
   "outputs": [
    {
     "name": "stdout",
     "output_type": "stream",
     "text": [
      "轮廓系数为:0.532\n"
     ]
    }
   ],
   "source": [
    "# 轮廓系数\n",
    "sil = silhouette_score(data,data['cluster']).round(3)\n",
    "print(\"轮廓系数为:%s\" % sil)"
   ]
  },
  {
   "cell_type": "code",
   "execution_count": null,
   "metadata": {},
   "outputs": [],
   "source": []
  },
  {
   "cell_type": "code",
   "execution_count": null,
   "metadata": {},
   "outputs": [],
   "source": []
  },
  {
   "cell_type": "code",
   "execution_count": 17,
   "metadata": {},
   "outputs": [
    {
     "name": "stdout",
     "output_type": "stream",
     "text": [
      "<class 'numpy.ndarray'>\n"
     ]
    }
   ],
   "source": [
    "data = data.drop(\"cluster\",axis=1)\n",
    "# 使用PCA对数据将维\n",
    "from sklearn.decomposition import PCA\n",
    "pca = PCA(n_components=2)\n",
    "data = pca.fit_transform(data)\n",
    "print(type(data))\n"
   ]
  },
  {
   "cell_type": "code",
   "execution_count": 18,
   "metadata": {},
   "outputs": [
    {
     "data": {
      "text/html": [
       "<div>\n",
       "<style scoped>\n",
       "    .dataframe tbody tr th:only-of-type {\n",
       "        vertical-align: middle;\n",
       "    }\n",
       "\n",
       "    .dataframe tbody tr th {\n",
       "        vertical-align: top;\n",
       "    }\n",
       "\n",
       "    .dataframe thead th {\n",
       "        text-align: right;\n",
       "    }\n",
       "</style>\n",
       "<table border=\"1\" class=\"dataframe\">\n",
       "  <thead>\n",
       "    <tr style=\"text-align: right;\">\n",
       "      <th></th>\n",
       "      <th>1</th>\n",
       "      <th>2</th>\n",
       "    </tr>\n",
       "  </thead>\n",
       "  <tbody>\n",
       "    <tr>\n",
       "      <th>0</th>\n",
       "      <td>-6.252575</td>\n",
       "      <td>-5.867295</td>\n",
       "    </tr>\n",
       "    <tr>\n",
       "      <th>1</th>\n",
       "      <td>13.149982</td>\n",
       "      <td>-1.669001</td>\n",
       "    </tr>\n",
       "    <tr>\n",
       "      <th>2</th>\n",
       "      <td>11.775554</td>\n",
       "      <td>-3.080670</td>\n",
       "    </tr>\n",
       "    <tr>\n",
       "      <th>3</th>\n",
       "      <td>10.985019</td>\n",
       "      <td>-2.682877</td>\n",
       "    </tr>\n",
       "    <tr>\n",
       "      <th>4</th>\n",
       "      <td>13.225663</td>\n",
       "      <td>0.361865</td>\n",
       "    </tr>\n",
       "    <tr>\n",
       "      <th>...</th>\n",
       "      <td>...</td>\n",
       "      <td>...</td>\n",
       "    </tr>\n",
       "    <tr>\n",
       "      <th>995</th>\n",
       "      <td>-1.301244</td>\n",
       "      <td>5.524512</td>\n",
       "    </tr>\n",
       "    <tr>\n",
       "      <th>996</th>\n",
       "      <td>-4.453659</td>\n",
       "      <td>-5.048128</td>\n",
       "    </tr>\n",
       "    <tr>\n",
       "      <th>997</th>\n",
       "      <td>12.545153</td>\n",
       "      <td>1.450811</td>\n",
       "    </tr>\n",
       "    <tr>\n",
       "      <th>998</th>\n",
       "      <td>11.596907</td>\n",
       "      <td>-1.824583</td>\n",
       "    </tr>\n",
       "    <tr>\n",
       "      <th>999</th>\n",
       "      <td>-7.035554</td>\n",
       "      <td>-3.012155</td>\n",
       "    </tr>\n",
       "  </tbody>\n",
       "</table>\n",
       "<p>1000 rows × 2 columns</p>\n",
       "</div>"
      ],
      "text/plain": [
       "             1         2\n",
       "0    -6.252575 -5.867295\n",
       "1    13.149982 -1.669001\n",
       "2    11.775554 -3.080670\n",
       "3    10.985019 -2.682877\n",
       "4    13.225663  0.361865\n",
       "..         ...       ...\n",
       "995  -1.301244  5.524512\n",
       "996  -4.453659 -5.048128\n",
       "997  12.545153  1.450811\n",
       "998  11.596907 -1.824583\n",
       "999  -7.035554 -3.012155\n",
       "\n",
       "[1000 rows x 2 columns]"
      ]
     },
     "execution_count": 18,
     "metadata": {},
     "output_type": "execute_result"
    }
   ],
   "source": [
    "data = pd.DataFrame(data,columns=[\"1\",\"2\"])\n",
    "data"
   ]
  },
  {
   "cell_type": "code",
   "execution_count": null,
   "metadata": {},
   "outputs": [],
   "source": []
  },
  {
   "cell_type": "code",
   "execution_count": 19,
   "metadata": {},
   "outputs": [
    {
     "data": {
      "image/png": "[encoded data removed]",
      "text/plain": [
       "<Figure size 576x432 with 1 Axes>"
      ]
     },
     "metadata": {
      "needs_background": "light"
     },
     "output_type": "display_data"
    }
   ],
   "source": [
    "# 计算轮廓系数,寻找最优解K\n",
    "from sklearn.metrics import silhouette_samples, silhouette_score\n",
    "import matplotlib.pyplot as plt\n",
    "plt.rcParams['font.sans-serif'] = ['SimHei']  # 用来正常显示中文标签\n",
    "plt.rcParams['axes.unicode_minus'] = False  # 用来正常显示负号\n",
    "plt.figure(figsize=(8,6))\n",
    "\n",
    "sc=[]\n",
    "for i in range(2,10):\n",
    "    cluster_=KMeans(n_clusters=i,random_state=0).fit(data)\n",
    "    y_pre=cluster_.labels_\n",
    "    sc_=silhouette_score(data,y_pre)\n",
    "    sc.append(sc_)\n",
    "plt.plot(range(2,10),sc,color='red',linewidth=2.0,marker='o')\n",
    "plt.ylabel(\"轮廓系数\")\n",
    "plt.xlabel(\"聚簇数量\")\n",
    "plt.show()"
   ]
  },
  {
   "cell_type": "code",
   "execution_count": 20,
   "metadata": {},
   "outputs": [],
   "source": [
    "from sklearn.cluster import KMeans\n",
    "# 最优解 k = 3\n",
    "km = KMeans(n_clusters=3)\n",
    "km.fit(data)\n",
    "data['cluster'] = km.labels_"
   ]
  },
  {
   "cell_type": "code",
   "execution_count": 21,
   "metadata": {},
   "outputs": [
    {
     "name": "stdout",
     "output_type": "stream",
     "text": [
      "轮廓系数为:0.7003794480471616\n"
     ]
    }
   ],
   "source": [
    "# 降维后的轮廓系数\n",
    "sil = silhouette_score(data,data['cluster'])\n",
    "print(\"轮廓系数为:%s\" % sil)"
   ]
  },
  {
   "cell_type": "code",
   "execution_count": 32,
   "metadata": {},
   "outputs": [
    {
     "data": {
      "image/png": "[encoded data removed]",
      "text/plain": [
       "<Figure size 432x288 with 1 Axes>"
      ]
     },
     "metadata": {
      "needs_background": "light"
     },
     "output_type": "display_data"
    }
   ],
   "source": [
    "# 导入第三方模块\n",
    "import seaborn as sns\n",
    "\n",
    "# 三个簇的簇中心\n",
    "centers = km.cluster_centers_\n",
    "# 绘制聚类效果的散点图\n",
    "# sns.lmplot(x = '1', y = '2', hue = 'cluster', markers = ['^','s','o'], \n",
    "#            data = data, fit_reg = False, scatter_kws = {'alpha':0.8}, legend_out = False)\n",
    "# plt.scatter(centers[:,0], centers[:,1], marker = '*', color = 'black', s = 130)\n",
    "plt.scatter(data['1'], data['2'], c = data['cluster'],marker='*', s = 130)\n",
    "plt.xlabel('1')\n",
    "plt.ylabel('2')\n",
    "# 图形显示\n",
    "plt.show()"
   ]
  },
  {
   "cell_type": "markdown",
   "metadata": {},
   "source": [
    "\n",
    "# DBSCAN（基于密度）"
   ]
  },
  {
   "cell_type": "code",
   "execution_count": 108,
   "metadata": {},
   "outputs": [],
   "source": [
    "import pandas as pd\n",
    "import numpy as np"
   ]
  },
  {
   "cell_type": "code",
   "execution_count": 109,
   "metadata": {},
   "outputs": [
    {
     "data": {
      "text/html": [
       "<div>\n",
       "<style scoped>\n",
       "    .dataframe tbody tr th:only-of-type {\n",
       "        vertical-align: middle;\n",
       "    }\n",
       "\n",
       "    .dataframe tbody tr th {\n",
       "        vertical-align: top;\n",
       "    }\n",
       "\n",
       "    .dataframe thead th {\n",
       "        text-align: right;\n",
       "    }\n",
       "</style>\n",
       "<table border=\"1\" class=\"dataframe\">\n",
       "  <thead>\n",
       "    <tr style=\"text-align: right;\">\n",
       "      <th></th>\n",
       "      <th>Feature_1</th>\n",
       "      <th>Feature_2</th>\n",
       "      <th>Feature_3</th>\n",
       "      <th>Feature_4</th>\n",
       "      <th>Feature_5</th>\n",
       "      <th>Feature_6</th>\n",
       "      <th>Feature_7</th>\n",
       "    </tr>\n",
       "  </thead>\n",
       "  <tbody>\n",
       "    <tr>\n",
       "      <th>0</th>\n",
       "      <td>6.572897</td>\n",
       "      <td>-5.172835</td>\n",
       "      <td>2.741810</td>\n",
       "      <td>-2.273339</td>\n",
       "      <td>-5.050879</td>\n",
       "      <td>5.292106</td>\n",
       "      <td>3.226456</td>\n",
       "    </tr>\n",
       "    <tr>\n",
       "      <th>1</th>\n",
       "      <td>-7.156458</td>\n",
       "      <td>-5.985348</td>\n",
       "      <td>-5.031591</td>\n",
       "      <td>-4.150187</td>\n",
       "      <td>-8.233108</td>\n",
       "      <td>-4.271970</td>\n",
       "      <td>12.694242</td>\n",
       "    </tr>\n",
       "    <tr>\n",
       "      <th>2</th>\n",
       "      <td>-4.631283</td>\n",
       "      <td>1.043873</td>\n",
       "      <td>-1.362041</td>\n",
       "      <td>-8.999582</td>\n",
       "      <td>-7.406887</td>\n",
       "      <td>-1.848032</td>\n",
       "      <td>12.250691</td>\n",
       "    </tr>\n",
       "    <tr>\n",
       "      <th>3</th>\n",
       "      <td>-5.046997</td>\n",
       "      <td>-1.415594</td>\n",
       "      <td>-5.699884</td>\n",
       "      <td>-6.161301</td>\n",
       "      <td>-6.949402</td>\n",
       "      <td>0.926790</td>\n",
       "      <td>11.114728</td>\n",
       "    </tr>\n",
       "    <tr>\n",
       "      <th>4</th>\n",
       "      <td>-10.353180</td>\n",
       "      <td>-1.018143</td>\n",
       "      <td>-3.243667</td>\n",
       "      <td>-2.366646</td>\n",
       "      <td>-8.209471</td>\n",
       "      <td>-0.859586</td>\n",
       "      <td>10.090310</td>\n",
       "    </tr>\n",
       "  </tbody>\n",
       "</table>\n",
       "</div>"
      ],
      "text/plain": [
       "   Feature_1  Feature_2  Feature_3  Feature_4  Feature_5  Feature_6  Feature_7\n",
       "0   6.572897  -5.172835   2.741810  -2.273339  -5.050879   5.292106   3.226456\n",
       "1  -7.156458  -5.985348  -5.031591  -4.150187  -8.233108  -4.271970  12.694242\n",
       "2  -4.631283   1.043873  -1.362041  -8.999582  -7.406887  -1.848032  12.250691\n",
       "3  -5.046997  -1.415594  -5.699884  -6.161301  -6.949402   0.926790  11.114728\n",
       "4 -10.353180  -1.018143  -3.243667  -2.366646  -8.209471  -0.859586  10.090310"
      ]
     },
     "execution_count": 109,
     "metadata": {},
     "output_type": "execute_result"
    }
   ],
   "source": [
    "data = pd.read_csv(\"data/实验报告数据/data_clustering.csv\")\n",
    "# 去除无关数据\n",
    "data = data.iloc[:,[1,2,3,4,5,6,7]]\n",
    "data.head()"
   ]
  },
  {
   "cell_type": "code",
   "execution_count": 125,
   "metadata": {},
   "outputs": [],
   "source": [
    "from sklearn.metrics import silhouette_score\n",
    "import pandas as pd\n",
    "\n",
    "sc=[]\n",
    "ep = []\n",
    "min_sa = []\n",
    "for eps in np.arange(2,5,0.1):\n",
    "    \n",
    "    for i in range(5,20):\n",
    "        cluster_=DBSCAN(eps=eps,min_samples=i).fit(data)\n",
    "        y_pre=cluster_.labels_\n",
    "        sc_=silhouette_score(data,y_pre)\n",
    "        sc.append(sc_)\n",
    "        ep.append(eps)\n",
    "        min_sa.append(i)\n"
   ]
  },
  {
   "cell_type": "code",
   "execution_count": 126,
   "metadata": {},
   "outputs": [
    {
     "data": {
      "text/html": [
       "<div>\n",
       "<style scoped>\n",
       "    .dataframe tbody tr th:only-of-type {\n",
       "        vertical-align: middle;\n",
       "    }\n",
       "\n",
       "    .dataframe tbody tr th {\n",
       "        vertical-align: top;\n",
       "    }\n",
       "\n",
       "    .dataframe thead th {\n",
       "        text-align: right;\n",
       "    }\n",
       "</style>\n",
       "<table border=\"1\" class=\"dataframe\">\n",
       "  <thead>\n",
       "    <tr style=\"text-align: right;\">\n",
       "      <th></th>\n",
       "      <th>轮廓系数</th>\n",
       "      <th>eps</th>\n",
       "      <th>min_sa</th>\n",
       "    </tr>\n",
       "  </thead>\n",
       "  <tbody>\n",
       "    <tr>\n",
       "      <th>449</th>\n",
       "      <td>0.474030</td>\n",
       "      <td>4.9</td>\n",
       "      <td>19</td>\n",
       "    </tr>\n",
       "    <tr>\n",
       "      <th>434</th>\n",
       "      <td>0.468865</td>\n",
       "      <td>4.8</td>\n",
       "      <td>19</td>\n",
       "    </tr>\n",
       "    <tr>\n",
       "      <th>433</th>\n",
       "      <td>0.468865</td>\n",
       "      <td>4.8</td>\n",
       "      <td>18</td>\n",
       "    </tr>\n",
       "    <tr>\n",
       "      <th>414</th>\n",
       "      <td>0.465765</td>\n",
       "      <td>4.7</td>\n",
       "      <td>14</td>\n",
       "    </tr>\n",
       "    <tr>\n",
       "      <th>415</th>\n",
       "      <td>0.463892</td>\n",
       "      <td>4.7</td>\n",
       "      <td>15</td>\n",
       "    </tr>\n",
       "    <tr>\n",
       "      <th>...</th>\n",
       "      <td>...</td>\n",
       "      <td>...</td>\n",
       "      <td>...</td>\n",
       "    </tr>\n",
       "    <tr>\n",
       "      <th>45</th>\n",
       "      <td>0.000575</td>\n",
       "      <td>2.3</td>\n",
       "      <td>5</td>\n",
       "    </tr>\n",
       "    <tr>\n",
       "      <th>46</th>\n",
       "      <td>-0.003191</td>\n",
       "      <td>2.3</td>\n",
       "      <td>6</td>\n",
       "    </tr>\n",
       "    <tr>\n",
       "      <th>15</th>\n",
       "      <td>-0.006569</td>\n",
       "      <td>2.1</td>\n",
       "      <td>5</td>\n",
       "    </tr>\n",
       "    <tr>\n",
       "      <th>30</th>\n",
       "      <td>-0.008566</td>\n",
       "      <td>2.2</td>\n",
       "      <td>5</td>\n",
       "    </tr>\n",
       "    <tr>\n",
       "      <th>0</th>\n",
       "      <td>-0.026678</td>\n",
       "      <td>2.0</td>\n",
       "      <td>5</td>\n",
       "    </tr>\n",
       "  </tbody>\n",
       "</table>\n",
       "<p>450 rows × 3 columns</p>\n",
       "</div>"
      ],
      "text/plain": [
       "         轮廓系数  eps  min_sa\n",
       "449  0.474030  4.9      19\n",
       "434  0.468865  4.8      19\n",
       "433  0.468865  4.8      18\n",
       "414  0.465765  4.7      14\n",
       "415  0.463892  4.7      15\n",
       "..        ...  ...     ...\n",
       "45   0.000575  2.3       5\n",
       "46  -0.003191  2.3       6\n",
       "15  -0.006569  2.1       5\n",
       "30  -0.008566  2.2       5\n",
       "0   -0.026678  2.0       5\n",
       "\n",
       "[450 rows x 3 columns]"
      ]
     },
     "execution_count": 126,
     "metadata": {},
     "output_type": "execute_result"
    }
   ],
   "source": [
    "df = pd.DataFrame({\"轮廓系数\":sc,\"eps\":ep,\"min_sa\":min_sa})\n",
    "df.sort_values('轮廓系数',ascending=False)\n"
   ]
  },
  {
   "cell_type": "code",
   "execution_count": 127,
   "metadata": {},
   "outputs": [
    {
     "data": {
      "text/plain": [
       " 0    342\n",
       "-1    331\n",
       " 1    327\n",
       "Name: labels, dtype: int64"
      ]
     },
     "execution_count": 127,
     "metadata": {},
     "output_type": "execute_result"
    }
   ],
   "source": [
    "from sklearn.cluster import DBSCAN\n",
    "# eps:扫描半径，min_samples:一个类最小包含的点数\n",
    "dbs = DBSCAN(eps=4.9,min_samples=19)\n",
    "dbs.fit(data)\n",
    "data['labels'] = dbs.labels_\n",
    "# 统计各类的数据量\n",
    "data['labels'].value_counts()"
   ]
  },
  {
   "cell_type": "code",
   "execution_count": 128,
   "metadata": {},
   "outputs": [
    {
     "name": "stdout",
     "output_type": "stream",
     "text": [
      "轮廓系数为:0.4750946156935249\n"
     ]
    }
   ],
   "source": [
    "from sklearn.metrics import silhouette_samples, silhouette_score\n",
    "sil = silhouette_score(data,data['labels'])\n",
    "print(\"轮廓系数为:%s\" % sil)"
   ]
  },
  {
   "cell_type": "code",
   "execution_count": 30,
   "metadata": {},
   "outputs": [
    {
     "data": {
      "text/html": [
       "<div>\n",
       "<style scoped>\n",
       "    .dataframe tbody tr th:only-of-type {\n",
       "        vertical-align: middle;\n",
       "    }\n",
       "\n",
       "    .dataframe tbody tr th {\n",
       "        vertical-align: top;\n",
       "    }\n",
       "\n",
       "    .dataframe thead th {\n",
       "        text-align: right;\n",
       "    }\n",
       "</style>\n",
       "<table border=\"1\" class=\"dataframe\">\n",
       "  <thead>\n",
       "    <tr style=\"text-align: right;\">\n",
       "      <th></th>\n",
       "      <th>1</th>\n",
       "      <th>2</th>\n",
       "    </tr>\n",
       "  </thead>\n",
       "  <tbody>\n",
       "    <tr>\n",
       "      <th>0</th>\n",
       "      <td>-6.252575</td>\n",
       "      <td>-5.867295</td>\n",
       "    </tr>\n",
       "    <tr>\n",
       "      <th>1</th>\n",
       "      <td>13.149982</td>\n",
       "      <td>-1.669001</td>\n",
       "    </tr>\n",
       "    <tr>\n",
       "      <th>2</th>\n",
       "      <td>11.775554</td>\n",
       "      <td>-3.080670</td>\n",
       "    </tr>\n",
       "    <tr>\n",
       "      <th>3</th>\n",
       "      <td>10.985019</td>\n",
       "      <td>-2.682877</td>\n",
       "    </tr>\n",
       "    <tr>\n",
       "      <th>4</th>\n",
       "      <td>13.225663</td>\n",
       "      <td>0.361865</td>\n",
       "    </tr>\n",
       "    <tr>\n",
       "      <th>...</th>\n",
       "      <td>...</td>\n",
       "      <td>...</td>\n",
       "    </tr>\n",
       "    <tr>\n",
       "      <th>995</th>\n",
       "      <td>-1.301244</td>\n",
       "      <td>5.524512</td>\n",
       "    </tr>\n",
       "    <tr>\n",
       "      <th>996</th>\n",
       "      <td>-4.453659</td>\n",
       "      <td>-5.048128</td>\n",
       "    </tr>\n",
       "    <tr>\n",
       "      <th>997</th>\n",
       "      <td>12.545153</td>\n",
       "      <td>1.450811</td>\n",
       "    </tr>\n",
       "    <tr>\n",
       "      <th>998</th>\n",
       "      <td>11.596907</td>\n",
       "      <td>-1.824583</td>\n",
       "    </tr>\n",
       "    <tr>\n",
       "      <th>999</th>\n",
       "      <td>-7.035554</td>\n",
       "      <td>-3.012155</td>\n",
       "    </tr>\n",
       "  </tbody>\n",
       "</table>\n",
       "<p>1000 rows × 2 columns</p>\n",
       "</div>"
      ],
      "text/plain": [
       "             1         2\n",
       "0    -6.252575 -5.867295\n",
       "1    13.149982 -1.669001\n",
       "2    11.775554 -3.080670\n",
       "3    10.985019 -2.682877\n",
       "4    13.225663  0.361865\n",
       "..         ...       ...\n",
       "995  -1.301244  5.524512\n",
       "996  -4.453659 -5.048128\n",
       "997  12.545153  1.450811\n",
       "998  11.596907 -1.824583\n",
       "999  -7.035554 -3.012155\n",
       "\n",
       "[1000 rows x 2 columns]"
      ]
     },
     "execution_count": 30,
     "metadata": {},
     "output_type": "execute_result"
    }
   ],
   "source": [
    "# 降维\n",
    "data = data.drop(\"labels\",axis=1)\n",
    "# 使用PCA对数据将维\n",
    "from sklearn.decomposition import PCA\n",
    "pca = PCA(n_components=2)\n",
    "data = pca.fit_transform(data)\n",
    "data = pd.DataFrame(data,columns=[\"1\",\"2\"])\n",
    "data\n"
   ]
  },
  {
   "cell_type": "code",
   "execution_count": 31,
   "metadata": {},
   "outputs": [
    {
     "data": {
      "image/png": "[encoded data removed]",
      "text/plain": [
       "<Figure size 504x360 with 1 Axes>"
      ]
     },
     "metadata": {
      "needs_background": "light"
     },
     "output_type": "display_data"
    }
   ],
   "source": [
    "# 计算轮廓系数,寻找最优解K\n",
    "from sklearn.metrics import silhouette_samples, silhouette_score\n",
    "import matplotlib.pyplot as plt\n",
    "plt.rcParams['font.sans-serif'] = ['SimHei']  # 用来正常显示中文标签\n",
    "plt.rcParams['axes.unicode_minus'] = False  # 用来正常显示负号\n",
    "plt.figure(figsize=(7,5))\n",
    "\n",
    "sc=[]\n",
    "for i in range(10,80):\n",
    "    cluster_=DBSCAN(eps=2.5,min_samples=i).fit(data)\n",
    "    y_pre=cluster_.labels_\n",
    "    sc_=silhouette_score(data,y_pre)\n",
    "    sc.append(sc_)\n",
    "plt.plot(range(10,80),sc,color='red',linewidth=2.0,marker='o')\n",
    "plt.ylabel(\"轮廓系数\")\n",
    "plt.xlabel(\"聚簇数量\")\n",
    "plt.show()"
   ]
  },
  {
   "cell_type": "code",
   "execution_count": null,
   "metadata": {},
   "outputs": [],
   "source": []
  },
  {
   "cell_type": "code",
   "execution_count": 32,
   "metadata": {},
   "outputs": [],
   "source": [
    "# 计算轮廓系数,寻找最优解K\n",
    "from sklearn.metrics import silhouette_score\n",
    "import pandas as pd\n",
    "\n",
    "sc=[]\n",
    "ep = []\n",
    "min_sa = []\n",
    "for eps in np.arange(1,3,0.1):\n",
    "    \n",
    "    for i in range(10,80):\n",
    "        cluster_=DBSCAN(eps=eps,min_samples=i).fit(data)\n",
    "        y_pre=cluster_.labels_\n",
    "        sc_=silhouette_score(data,y_pre)\n",
    "        sc.append(sc_)\n",
    "        ep.append(eps)\n",
    "        min_sa.append(i)\n",
    "\n"
   ]
  },
  {
   "cell_type": "code",
   "execution_count": 33,
   "metadata": {},
   "outputs": [
    {
     "data": {
      "text/html": [
       "<div>\n",
       "<style scoped>\n",
       "    .dataframe tbody tr th:only-of-type {\n",
       "        vertical-align: middle;\n",
       "    }\n",
       "\n",
       "    .dataframe tbody tr th {\n",
       "        vertical-align: top;\n",
       "    }\n",
       "\n",
       "    .dataframe thead th {\n",
       "        text-align: right;\n",
       "    }\n",
       "</style>\n",
       "<table border=\"1\" class=\"dataframe\">\n",
       "  <thead>\n",
       "    <tr style=\"text-align: right;\">\n",
       "      <th></th>\n",
       "      <th>轮廓系数</th>\n",
       "      <th>eps</th>\n",
       "      <th>min_sa</th>\n",
       "    </tr>\n",
       "  </thead>\n",
       "  <tbody>\n",
       "    <tr>\n",
       "      <th>1153</th>\n",
       "      <td>0.660943</td>\n",
       "      <td>2.6</td>\n",
       "      <td>43</td>\n",
       "    </tr>\n",
       "    <tr>\n",
       "      <th>1151</th>\n",
       "      <td>0.660943</td>\n",
       "      <td>2.6</td>\n",
       "      <td>41</td>\n",
       "    </tr>\n",
       "    <tr>\n",
       "      <th>1152</th>\n",
       "      <td>0.660943</td>\n",
       "      <td>2.6</td>\n",
       "      <td>42</td>\n",
       "    </tr>\n",
       "    <tr>\n",
       "      <th>1076</th>\n",
       "      <td>0.660671</td>\n",
       "      <td>2.5</td>\n",
       "      <td>36</td>\n",
       "    </tr>\n",
       "    <tr>\n",
       "      <th>1006</th>\n",
       "      <td>0.660106</td>\n",
       "      <td>2.4</td>\n",
       "      <td>36</td>\n",
       "    </tr>\n",
       "    <tr>\n",
       "      <th>...</th>\n",
       "      <td>...</td>\n",
       "      <td>...</td>\n",
       "      <td>...</td>\n",
       "    </tr>\n",
       "    <tr>\n",
       "      <th>111</th>\n",
       "      <td>0.092445</td>\n",
       "      <td>1.1</td>\n",
       "      <td>51</td>\n",
       "    </tr>\n",
       "    <tr>\n",
       "      <th>30</th>\n",
       "      <td>0.091300</td>\n",
       "      <td>1.0</td>\n",
       "      <td>40</td>\n",
       "    </tr>\n",
       "    <tr>\n",
       "      <th>112</th>\n",
       "      <td>0.088777</td>\n",
       "      <td>1.1</td>\n",
       "      <td>52</td>\n",
       "    </tr>\n",
       "    <tr>\n",
       "      <th>31</th>\n",
       "      <td>0.087581</td>\n",
       "      <td>1.0</td>\n",
       "      <td>41</td>\n",
       "    </tr>\n",
       "    <tr>\n",
       "      <th>32</th>\n",
       "      <td>0.067597</td>\n",
       "      <td>1.0</td>\n",
       "      <td>42</td>\n",
       "    </tr>\n",
       "  </tbody>\n",
       "</table>\n",
       "<p>1400 rows × 3 columns</p>\n",
       "</div>"
      ],
      "text/plain": [
       "          轮廓系数  eps  min_sa\n",
       "1153  0.660943  2.6      43\n",
       "1151  0.660943  2.6      41\n",
       "1152  0.660943  2.6      42\n",
       "1076  0.660671  2.5      36\n",
       "1006  0.660106  2.4      36\n",
       "...        ...  ...     ...\n",
       "111   0.092445  1.1      51\n",
       "30    0.091300  1.0      40\n",
       "112   0.088777  1.1      52\n",
       "31    0.087581  1.0      41\n",
       "32    0.067597  1.0      42\n",
       "\n",
       "[1400 rows x 3 columns]"
      ]
     },
     "execution_count": 33,
     "metadata": {},
     "output_type": "execute_result"
    }
   ],
   "source": [
    "df = pd.DataFrame({\"轮廓系数\":sc,\"eps\":ep,\"min_sa\":min_sa})\n",
    "df.sort_values('轮廓系数',ascending=False)\n"
   ]
  },
  {
   "cell_type": "code",
   "execution_count": 34,
   "metadata": {},
   "outputs": [
    {
     "data": {
      "text/plain": [
       " 0    357\n",
       " 1    331\n",
       " 2    283\n",
       "-1     29\n",
       "Name: labels, dtype: int64"
      ]
     },
     "execution_count": 34,
     "metadata": {},
     "output_type": "execute_result"
    }
   ],
   "source": [
    "from sklearn.cluster import DBSCAN\n",
    "# eps:扫描半径，min_samples:一个类最小包含的点数\n",
    "dbs = DBSCAN(eps=2.6,min_samples=43)\n",
    "dbs.fit(data)\n",
    "data['labels'] = dbs.labels_\n",
    "# 统计各类的数据量\n",
    "data['labels'].value_counts()"
   ]
  },
  {
   "cell_type": "code",
   "execution_count": 35,
   "metadata": {},
   "outputs": [
    {
     "data": {
      "text/html": [
       "<div>\n",
       "<style scoped>\n",
       "    .dataframe tbody tr th:only-of-type {\n",
       "        vertical-align: middle;\n",
       "    }\n",
       "\n",
       "    .dataframe tbody tr th {\n",
       "        vertical-align: top;\n",
       "    }\n",
       "\n",
       "    .dataframe thead th {\n",
       "        text-align: right;\n",
       "    }\n",
       "</style>\n",
       "<table border=\"1\" class=\"dataframe\">\n",
       "  <thead>\n",
       "    <tr style=\"text-align: right;\">\n",
       "      <th></th>\n",
       "      <th>1</th>\n",
       "      <th>2</th>\n",
       "      <th>labels</th>\n",
       "    </tr>\n",
       "  </thead>\n",
       "  <tbody>\n",
       "    <tr>\n",
       "      <th>0</th>\n",
       "      <td>-6.252575</td>\n",
       "      <td>-5.867295</td>\n",
       "      <td>0</td>\n",
       "    </tr>\n",
       "    <tr>\n",
       "      <th>1</th>\n",
       "      <td>13.149982</td>\n",
       "      <td>-1.669001</td>\n",
       "      <td>1</td>\n",
       "    </tr>\n",
       "    <tr>\n",
       "      <th>2</th>\n",
       "      <td>11.775554</td>\n",
       "      <td>-3.080670</td>\n",
       "      <td>1</td>\n",
       "    </tr>\n",
       "    <tr>\n",
       "      <th>3</th>\n",
       "      <td>10.985019</td>\n",
       "      <td>-2.682877</td>\n",
       "      <td>1</td>\n",
       "    </tr>\n",
       "    <tr>\n",
       "      <th>4</th>\n",
       "      <td>13.225663</td>\n",
       "      <td>0.361865</td>\n",
       "      <td>1</td>\n",
       "    </tr>\n",
       "    <tr>\n",
       "      <th>...</th>\n",
       "      <td>...</td>\n",
       "      <td>...</td>\n",
       "      <td>...</td>\n",
       "    </tr>\n",
       "    <tr>\n",
       "      <th>995</th>\n",
       "      <td>-1.301244</td>\n",
       "      <td>5.524512</td>\n",
       "      <td>2</td>\n",
       "    </tr>\n",
       "    <tr>\n",
       "      <th>996</th>\n",
       "      <td>-4.453659</td>\n",
       "      <td>-5.048128</td>\n",
       "      <td>0</td>\n",
       "    </tr>\n",
       "    <tr>\n",
       "      <th>997</th>\n",
       "      <td>12.545153</td>\n",
       "      <td>1.450811</td>\n",
       "      <td>1</td>\n",
       "    </tr>\n",
       "    <tr>\n",
       "      <th>998</th>\n",
       "      <td>11.596907</td>\n",
       "      <td>-1.824583</td>\n",
       "      <td>1</td>\n",
       "    </tr>\n",
       "    <tr>\n",
       "      <th>999</th>\n",
       "      <td>-7.035554</td>\n",
       "      <td>-3.012155</td>\n",
       "      <td>0</td>\n",
       "    </tr>\n",
       "  </tbody>\n",
       "</table>\n",
       "<p>1000 rows × 3 columns</p>\n",
       "</div>"
      ],
      "text/plain": [
       "             1         2  labels\n",
       "0    -6.252575 -5.867295       0\n",
       "1    13.149982 -1.669001       1\n",
       "2    11.775554 -3.080670       1\n",
       "3    10.985019 -2.682877       1\n",
       "4    13.225663  0.361865       1\n",
       "..         ...       ...     ...\n",
       "995  -1.301244  5.524512       2\n",
       "996  -4.453659 -5.048128       0\n",
       "997  12.545153  1.450811       1\n",
       "998  11.596907 -1.824583       1\n",
       "999  -7.035554 -3.012155       0\n",
       "\n",
       "[1000 rows x 3 columns]"
      ]
     },
     "execution_count": 35,
     "metadata": {},
     "output_type": "execute_result"
    }
   ],
   "source": [
    "data"
   ]
  },
  {
   "cell_type": "code",
   "execution_count": 36,
   "metadata": {},
   "outputs": [
    {
     "name": "stdout",
     "output_type": "stream",
     "text": [
      "轮廓系数为:0.6721588130435614\n"
     ]
    }
   ],
   "source": [
    "# 降维后的轮廓系数\n",
    "from sklearn.metrics import silhouette_samples, silhouette_score\n",
    "sil = silhouette_score(data,data['labels'])\n",
    "print(\"轮廓系数为:%s\" % sil)"
   ]
  },
  {
   "cell_type": "code",
   "execution_count": null,
   "metadata": {},
   "outputs": [],
   "source": []
  },
  {
   "cell_type": "code",
   "execution_count": 37,
   "metadata": {},
   "outputs": [
    {
     "data": {
      "image/png": "[encoded data removed]",
      "text/plain": [
       "<Figure size 576x432 with 1 Axes>"
      ]
     },
     "metadata": {
      "needs_background": "light"
     },
     "output_type": "display_data"
    }
   ],
   "source": [
    "# # 绘制聚类效果的散点图\n",
    "import matplotlib.pyplot as plt\n",
    "plt.rcParams['font.sans-serif'] = ['SimHei']  # 用来正常显示中文标签\n",
    "plt.rcParams['axes.unicode_minus'] = False  # 用来正常显示负号\n",
    "plt.figure(figsize=(8,6))\n",
    "plt.scatter(data['1'], data['2'], c = data['labels'], marker = '*', s = 130)\n",
    "plt.show()"
   ]
  },
  {
   "cell_type": "markdown",
   "metadata": {},
   "source": [
    "# AgglomerativeClustering(基于层次)"
   ]
  },
  {
   "cell_type": "code",
   "execution_count": 96,
   "metadata": {},
   "outputs": [],
   "source": [
    "from  sklearn.cluster import AgglomerativeClustering\n",
    "import pandas as pd\n",
    "import numpy as np\n",
    "import matplotlib.pyplot as plt"
   ]
  },
  {
   "cell_type": "code",
   "execution_count": 97,
   "metadata": {},
   "outputs": [
    {
     "data": {
      "text/html": [
       "<div>\n",
       "<style scoped>\n",
       "    .dataframe tbody tr th:only-of-type {\n",
       "        vertical-align: middle;\n",
       "    }\n",
       "\n",
       "    .dataframe tbody tr th {\n",
       "        vertical-align: top;\n",
       "    }\n",
       "\n",
       "    .dataframe thead th {\n",
       "        text-align: right;\n",
       "    }\n",
       "</style>\n",
       "<table border=\"1\" class=\"dataframe\">\n",
       "  <thead>\n",
       "    <tr style=\"text-align: right;\">\n",
       "      <th></th>\n",
       "      <th>Feature_1</th>\n",
       "      <th>Feature_2</th>\n",
       "      <th>Feature_3</th>\n",
       "      <th>Feature_4</th>\n",
       "      <th>Feature_5</th>\n",
       "      <th>Feature_6</th>\n",
       "      <th>Feature_7</th>\n",
       "    </tr>\n",
       "  </thead>\n",
       "  <tbody>\n",
       "    <tr>\n",
       "      <th>0</th>\n",
       "      <td>6.572897</td>\n",
       "      <td>-5.172835</td>\n",
       "      <td>2.741810</td>\n",
       "      <td>-2.273339</td>\n",
       "      <td>-5.050879</td>\n",
       "      <td>5.292106</td>\n",
       "      <td>3.226456</td>\n",
       "    </tr>\n",
       "    <tr>\n",
       "      <th>1</th>\n",
       "      <td>-7.156458</td>\n",
       "      <td>-5.985348</td>\n",
       "      <td>-5.031591</td>\n",
       "      <td>-4.150187</td>\n",
       "      <td>-8.233108</td>\n",
       "      <td>-4.271970</td>\n",
       "      <td>12.694242</td>\n",
       "    </tr>\n",
       "    <tr>\n",
       "      <th>2</th>\n",
       "      <td>-4.631283</td>\n",
       "      <td>1.043873</td>\n",
       "      <td>-1.362041</td>\n",
       "      <td>-8.999582</td>\n",
       "      <td>-7.406887</td>\n",
       "      <td>-1.848032</td>\n",
       "      <td>12.250691</td>\n",
       "    </tr>\n",
       "    <tr>\n",
       "      <th>3</th>\n",
       "      <td>-5.046997</td>\n",
       "      <td>-1.415594</td>\n",
       "      <td>-5.699884</td>\n",
       "      <td>-6.161301</td>\n",
       "      <td>-6.949402</td>\n",
       "      <td>0.926790</td>\n",
       "      <td>11.114728</td>\n",
       "    </tr>\n",
       "    <tr>\n",
       "      <th>4</th>\n",
       "      <td>-10.353180</td>\n",
       "      <td>-1.018143</td>\n",
       "      <td>-3.243667</td>\n",
       "      <td>-2.366646</td>\n",
       "      <td>-8.209471</td>\n",
       "      <td>-0.859586</td>\n",
       "      <td>10.090310</td>\n",
       "    </tr>\n",
       "  </tbody>\n",
       "</table>\n",
       "</div>"
      ],
      "text/plain": [
       "   Feature_1  Feature_2  Feature_3  Feature_4  Feature_5  Feature_6  Feature_7\n",
       "0   6.572897  -5.172835   2.741810  -2.273339  -5.050879   5.292106   3.226456\n",
       "1  -7.156458  -5.985348  -5.031591  -4.150187  -8.233108  -4.271970  12.694242\n",
       "2  -4.631283   1.043873  -1.362041  -8.999582  -7.406887  -1.848032  12.250691\n",
       "3  -5.046997  -1.415594  -5.699884  -6.161301  -6.949402   0.926790  11.114728\n",
       "4 -10.353180  -1.018143  -3.243667  -2.366646  -8.209471  -0.859586  10.090310"
      ]
     },
     "execution_count": 97,
     "metadata": {},
     "output_type": "execute_result"
    }
   ],
   "source": [
    "data = pd.read_csv(\"data/实验报告数据/data_clustering.csv\")\n",
    "data = data.iloc[:,[1,2,3,4,5,6,7]]\n",
    "data.head()"
   ]
  },
  {
   "cell_type": "code",
   "execution_count": 98,
   "metadata": {},
   "outputs": [
    {
     "data": {
      "image/png": "[encoded data removed]",
      "text/plain": [
       "<Figure size 504x360 with 1 Axes>"
      ]
     },
     "metadata": {
      "needs_background": "light"
     },
     "output_type": "display_data"
    }
   ],
   "source": [
    "# 计算轮廓系数,寻找最优簇数量\n",
    "from sklearn.metrics import silhouette_samples, silhouette_score\n",
    "import matplotlib.pyplot as plt\n",
    "plt.rcParams['font.sans-serif'] = ['SimHei']  # 用来正常显示中文标签\n",
    "plt.rcParams['axes.unicode_minus'] = False  # 用来正常显示负号\n",
    "plt.figure(figsize=(7,5))\n",
    "\n",
    "sc=[]\n",
    "for i in range(2,10):\n",
    "    cluster_=AgglomerativeClustering(n_clusters=i).fit(data)\n",
    "    y_pre=cluster_.labels_\n",
    "    sc_=silhouette_score(data,y_pre)\n",
    "    sc.append(sc_)\n",
    "plt.plot(range(2,10),sc,color='red',linewidth=2.0,marker='o')\n",
    "plt.ylabel(\"轮廓系数\")\n",
    "plt.xlabel(\"聚簇数量\")\n",
    "plt.show()"
   ]
  },
  {
   "cell_type": "code",
   "execution_count": null,
   "metadata": {},
   "outputs": [],
   "source": []
  },
  {
   "cell_type": "code",
   "execution_count": 99,
   "metadata": {},
   "outputs": [
    {
     "data": {
      "text/plain": [
       "2    335\n",
       "1    334\n",
       "0    331\n",
       "Name: labels, dtype: int64"
      ]
     },
     "execution_count": 99,
     "metadata": {},
     "output_type": "execute_result"
    }
   ],
   "source": [
    "agg = AgglomerativeClustering(n_clusters=3)\n",
    "agg.fit(data)\n",
    "data['labels'] = agg.labels_\n",
    "data['labels'].value_counts()"
   ]
  },
  {
   "cell_type": "code",
   "execution_count": 100,
   "metadata": {},
   "outputs": [
    {
     "name": "stdout",
     "output_type": "stream",
     "text": [
      "轮廓系数为:0.48662306849458603\n"
     ]
    }
   ],
   "source": [
    "# 轮廓系数\n",
    "from sklearn.metrics import silhouette_samples, silhouette_score\n",
    "sil = silhouette_score(data,data['labels'])\n",
    "print(\"轮廓系数为:%s\" % sil)"
   ]
  },
  {
   "cell_type": "code",
   "execution_count": 101,
   "metadata": {},
   "outputs": [
    {
     "data": {
      "text/html": [
       "<div>\n",
       "<style scoped>\n",
       "    .dataframe tbody tr th:only-of-type {\n",
       "        vertical-align: middle;\n",
       "    }\n",
       "\n",
       "    .dataframe tbody tr th {\n",
       "        vertical-align: top;\n",
       "    }\n",
       "\n",
       "    .dataframe thead th {\n",
       "        text-align: right;\n",
       "    }\n",
       "</style>\n",
       "<table border=\"1\" class=\"dataframe\">\n",
       "  <thead>\n",
       "    <tr style=\"text-align: right;\">\n",
       "      <th></th>\n",
       "      <th>1</th>\n",
       "      <th>2</th>\n",
       "    </tr>\n",
       "  </thead>\n",
       "  <tbody>\n",
       "    <tr>\n",
       "      <th>0</th>\n",
       "      <td>-6.252575</td>\n",
       "      <td>-5.867295</td>\n",
       "    </tr>\n",
       "    <tr>\n",
       "      <th>1</th>\n",
       "      <td>13.149982</td>\n",
       "      <td>-1.669001</td>\n",
       "    </tr>\n",
       "    <tr>\n",
       "      <th>2</th>\n",
       "      <td>11.775554</td>\n",
       "      <td>-3.080670</td>\n",
       "    </tr>\n",
       "    <tr>\n",
       "      <th>3</th>\n",
       "      <td>10.985019</td>\n",
       "      <td>-2.682877</td>\n",
       "    </tr>\n",
       "    <tr>\n",
       "      <th>4</th>\n",
       "      <td>13.225663</td>\n",
       "      <td>0.361865</td>\n",
       "    </tr>\n",
       "    <tr>\n",
       "      <th>...</th>\n",
       "      <td>...</td>\n",
       "      <td>...</td>\n",
       "    </tr>\n",
       "    <tr>\n",
       "      <th>995</th>\n",
       "      <td>-1.301244</td>\n",
       "      <td>5.524512</td>\n",
       "    </tr>\n",
       "    <tr>\n",
       "      <th>996</th>\n",
       "      <td>-4.453659</td>\n",
       "      <td>-5.048128</td>\n",
       "    </tr>\n",
       "    <tr>\n",
       "      <th>997</th>\n",
       "      <td>12.545153</td>\n",
       "      <td>1.450811</td>\n",
       "    </tr>\n",
       "    <tr>\n",
       "      <th>998</th>\n",
       "      <td>11.596907</td>\n",
       "      <td>-1.824583</td>\n",
       "    </tr>\n",
       "    <tr>\n",
       "      <th>999</th>\n",
       "      <td>-7.035554</td>\n",
       "      <td>-3.012155</td>\n",
       "    </tr>\n",
       "  </tbody>\n",
       "</table>\n",
       "<p>1000 rows × 2 columns</p>\n",
       "</div>"
      ],
      "text/plain": [
       "             1         2\n",
       "0    -6.252575 -5.867295\n",
       "1    13.149982 -1.669001\n",
       "2    11.775554 -3.080670\n",
       "3    10.985019 -2.682877\n",
       "4    13.225663  0.361865\n",
       "..         ...       ...\n",
       "995  -1.301244  5.524512\n",
       "996  -4.453659 -5.048128\n",
       "997  12.545153  1.450811\n",
       "998  11.596907 -1.824583\n",
       "999  -7.035554 -3.012155\n",
       "\n",
       "[1000 rows x 2 columns]"
      ]
     },
     "execution_count": 101,
     "metadata": {},
     "output_type": "execute_result"
    }
   ],
   "source": [
    "# 降维\n",
    "data = data.drop(\"labels\",axis=1)\n",
    "# 使用PCA对数据将维\n",
    "from sklearn.decomposition import PCA\n",
    "pca = PCA(n_components=2)\n",
    "data = pca.fit_transform(data)\n",
    "data = pd.DataFrame(data,columns=[\"1\",\"2\"])\n",
    "data"
   ]
  },
  {
   "cell_type": "code",
   "execution_count": 102,
   "metadata": {},
   "outputs": [
    {
     "data": {
      "image/png": "[encoded data removed]",
      "text/plain": [
       "<Figure size 504x360 with 1 Axes>"
      ]
     },
     "metadata": {
      "needs_background": "light"
     },
     "output_type": "display_data"
    }
   ],
   "source": [
    "# 计算轮廓系数,寻找最优簇数量\n",
    "from sklearn.metrics import silhouette_samples, silhouette_score\n",
    "import matplotlib.pyplot as plt\n",
    "plt.rcParams['font.sans-serif'] = ['SimHei']  # 用来正常显示中文标签\n",
    "plt.rcParams['axes.unicode_minus'] = False  # 用来正常显示负号\n",
    "plt.figure(figsize=(7,5))\n",
    "\n",
    "sc=[]\n",
    "for i in range(2,10):\n",
    "    cluster_=AgglomerativeClustering(n_clusters=i,linkage='average',affinity='cosine').fit(data)\n",
    "    y_pre=cluster_.labels_\n",
    "    sc_=silhouette_score(data,y_pre)\n",
    "    sc.append(sc_)\n",
    "plt.plot(range(2,10),sc,color='red',linewidth=2.0,marker='o')\n",
    "plt.ylabel(\"轮廓系数\")\n",
    "plt.xlabel(\"聚簇数量\")\n",
    "plt.show()"
   ]
  },
  {
   "cell_type": "code",
   "execution_count": 106,
   "metadata": {},
   "outputs": [
    {
     "data": {
      "text/plain": [
       "2    346\n",
       "1    334\n",
       "0    320\n",
       "Name: labels, dtype: int64"
      ]
     },
     "execution_count": 106,
     "metadata": {},
     "output_type": "execute_result"
    }
   ],
   "source": [
    "agg = AgglomerativeClustering(n_clusters=3,linkage='average',affinity='cosine')\n",
    "agg.fit(data)\n",
    "data['labels'] = agg.labels_\n",
    "data['labels'].value_counts()"
   ]
  },
  {
   "cell_type": "code",
   "execution_count": 107,
   "metadata": {},
   "outputs": [
    {
     "name": "stdout",
     "output_type": "stream",
     "text": [
      "轮廓系数为:0.6974887374456571\n"
     ]
    }
   ],
   "source": [
    "# 轮廓系数\n",
    "from sklearn.metrics import silhouette_samples, silhouette_score\n",
    "sil = silhouette_score(data,data['labels'])\n",
    "print(\"轮廓系数为:%s\" % sil)"
   ]
  },
  {
   "cell_type": "code",
   "execution_count": 105,
   "metadata": {},
   "outputs": [
    {
     "data": {
      "image/png": "[encoded data removed]",
      "text/plain": [
       "<Figure size 576x432 with 1 Axes>"
      ]
     },
     "metadata": {
      "needs_background": "light"
     },
     "output_type": "display_data"
    }
   ],
   "source": [
    "# # 绘制聚类效果的散点图\n",
    "import matplotlib.pyplot as plt\n",
    "plt.rcParams['font.sans-serif'] = ['SimHei']  # 用来正常显示中文标签\n",
    "plt.rcParams['axes.unicode_minus'] = False  # 用来正常显示负号\n",
    "plt.figure(figsize=(8,6))\n",
    "plt.scatter(data['1'], data['2'], c = data['labels'], marker = '*', s = 130)\n",
    "plt.show()"
   ]
  },
  {
   "cell_type": "code",
   "execution_count": null,
   "metadata": {},
   "outputs": [],
   "source": []
  },
  {
   "cell_type": "code",
   "execution_count": null,
   "metadata": {},
   "outputs": [],
   "source": []
  }
 ],
 "metadata": {
  "kernelspec": {
   "display_name": "Python 3",
   "language": "python",
   "name": "python3"
  },
  "language_info": {
   "codemirror_mode": {
    "name": "ipython",
    "version": 3
   },
   "file_extension": ".py",
   "mimetype": "text/x-python",
   "name": "python",
   "nbconvert_exporter": "python",
   "pygments_lexer": "ipython3",
   "version": "3.8.3"
  }
 },
 "nbformat": 4,
 "nbformat_minor": 4
}
