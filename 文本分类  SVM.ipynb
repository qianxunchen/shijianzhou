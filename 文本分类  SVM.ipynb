{
 "cells": [
  {
   "cell_type": "code",
   "execution_count": 1,
   "metadata": {},
   "outputs": [
    {
     "data": {
      "text/html": [
       "<div>\n",
       "<style scoped>\n",
       "    .dataframe tbody tr th:only-of-type {\n",
       "        vertical-align: middle;\n",
       "    }\n",
       "\n",
       "    .dataframe tbody tr th {\n",
       "        vertical-align: top;\n",
       "    }\n",
       "\n",
       "    .dataframe thead th {\n",
       "        text-align: right;\n",
       "    }\n",
       "</style>\n",
       "<table border=\"1\" class=\"dataframe\">\n",
       "  <thead>\n",
       "    <tr style=\"text-align: right;\">\n",
       "      <th></th>\n",
       "      <th>label</th>\n",
       "      <th>review</th>\n",
       "    </tr>\n",
       "  </thead>\n",
       "  <tbody>\n",
       "    <tr>\n",
       "      <th>9323</th>\n",
       "      <td>0</td>\n",
       "      <td>根本就没送，就完成了？我想问你把饭送哪去了？也不给我个电话？逗</td>\n",
       "    </tr>\n",
       "    <tr>\n",
       "      <th>9125</th>\n",
       "      <td>0</td>\n",
       "      <td>恶意点确认，菜未送到，提前点击确认。</td>\n",
       "    </tr>\n",
       "    <tr>\n",
       "      <th>2391</th>\n",
       "      <td>1</td>\n",
       "      <td>天气不好,非常感谢,还是热的,好评！</td>\n",
       "    </tr>\n",
       "    <tr>\n",
       "      <th>11135</th>\n",
       "      <td>0</td>\n",
       "      <td>较之前还是吃的时候腊肉量偏少，不知是不是商家减量还是偶然的情况</td>\n",
       "    </tr>\n",
       "    <tr>\n",
       "      <th>3216</th>\n",
       "      <td>1</td>\n",
       "      <td>太实惠了，吃到撑啊！</td>\n",
       "    </tr>\n",
       "  </tbody>\n",
       "</table>\n",
       "</div>"
      ],
      "text/plain": [
       "       label                           review\n",
       "9323       0  根本就没送，就完成了？我想问你把饭送哪去了？也不给我个电话？逗\n",
       "9125       0               恶意点确认，菜未送到，提前点击确认。\n",
       "2391       1               天气不好,非常感谢,还是热的,好评！\n",
       "11135      0  较之前还是吃的时候腊肉量偏少，不知是不是商家减量还是偶然的情况\n",
       "3216       1                       太实惠了，吃到撑啊！"
      ]
     },
     "execution_count": 1,
     "metadata": {},
     "output_type": "execute_result"
    }
   ],
   "source": [
    "import pandas as pd\n",
    "from sklearn.feature_extraction.text import CountVectorizer, TfidfVectorizer\n",
    "from sklearn.model_selection import train_test_split\n",
    "from sklearn import svm\n",
    "from sklearn.metrics import classification_report,roc_auc_score,accuracy_score\n",
    "from sklearn.model_selection import *\n",
    "from sklearn.utils import shuffle \n",
    "# 导入数据\n",
    "data = pd.read_csv('data/waimai_10k.csv')\n",
    "data = shuffle(data)#将数据打乱\n",
    "data.head()"
   ]
  },
  {
   "cell_type": "code",
   "execution_count": 2,
   "metadata": {},
   "outputs": [
    {
     "data": {
      "text/html": [
       "<div>\n",
       "<style scoped>\n",
       "    .dataframe tbody tr th:only-of-type {\n",
       "        vertical-align: middle;\n",
       "    }\n",
       "\n",
       "    .dataframe tbody tr th {\n",
       "        vertical-align: top;\n",
       "    }\n",
       "\n",
       "    .dataframe thead th {\n",
       "        text-align: right;\n",
       "    }\n",
       "</style>\n",
       "<table border=\"1\" class=\"dataframe\">\n",
       "  <thead>\n",
       "    <tr style=\"text-align: right;\">\n",
       "      <th></th>\n",
       "      <th>label</th>\n",
       "      <th>review</th>\n",
       "    </tr>\n",
       "  </thead>\n",
       "  <tbody>\n",
       "    <tr>\n",
       "      <th>9323</th>\n",
       "      <td>0</td>\n",
       "      <td>根本就没送，就完成了？我想问你把饭送哪去了？也不给我个电话？逗</td>\n",
       "    </tr>\n",
       "    <tr>\n",
       "      <th>9125</th>\n",
       "      <td>0</td>\n",
       "      <td>恶意点确认，菜未送到，提前点击确认。</td>\n",
       "    </tr>\n",
       "    <tr>\n",
       "      <th>2391</th>\n",
       "      <td>1</td>\n",
       "      <td>天气不好,非常感谢,还是热的,好评！</td>\n",
       "    </tr>\n",
       "    <tr>\n",
       "      <th>11135</th>\n",
       "      <td>0</td>\n",
       "      <td>较之前还是吃的时候腊肉量偏少，不知是不是商家减量还是偶然的情况</td>\n",
       "    </tr>\n",
       "    <tr>\n",
       "      <th>3216</th>\n",
       "      <td>1</td>\n",
       "      <td>太实惠了，吃到撑啊！</td>\n",
       "    </tr>\n",
       "  </tbody>\n",
       "</table>\n",
       "</div>"
      ],
      "text/plain": [
       "       label                           review\n",
       "9323       0  根本就没送，就完成了？我想问你把饭送哪去了？也不给我个电话？逗\n",
       "9125       0               恶意点确认，菜未送到，提前点击确认。\n",
       "2391       1               天气不好,非常感谢,还是热的,好评！\n",
       "11135      0  较之前还是吃的时候腊肉量偏少，不知是不是商家减量还是偶然的情况\n",
       "3216       1                       太实惠了，吃到撑啊！"
      ]
     },
     "execution_count": 2,
     "metadata": {},
     "output_type": "execute_result"
    }
   ],
   "source": [
    "# 去除英文与数字，符号,采用replace方法\n",
    "data.review = data.review.str.replace('[0-9a-zA-Z]','')\n",
    "data.head()"
   ]
  },
  {
   "cell_type": "code",
   "execution_count": 3,
   "metadata": {},
   "outputs": [
    {
     "name": "stderr",
     "output_type": "stream",
     "text": [
      "Building prefix dict from the default dictionary ...\n",
      "Loading model from cache C:\\Users\\lenovo\\AppData\\Local\\Temp\\jieba.cache\n",
      "Loading model cost 0.717 seconds.\n",
      "Prefix dict has been built successfully.\n"
     ]
    },
    {
     "data": {
      "text/plain": [
       "9323             没 送 想 问 饭 送 电话 逗\n",
       "9125      恶意 点 确认 菜 未 送到 提前 点击 确认\n",
       "2391              天气 不好 非常感谢 热 好评\n",
       "11135    吃 腊肉 量 偏少 不知 商家 减量 偶然 情况\n",
       "3216                     太 实惠 吃 撑\n",
       "Name: review, dtype: object"
      ]
     },
     "execution_count": 3,
     "metadata": {},
     "output_type": "execute_result"
    }
   ],
   "source": [
    "#文本分词\n",
    "import jieba\n",
    "\n",
    "with open(\"data/stop_words\",encoding='utf-8') as words:\n",
    "    stop_word = [i.strip() for i in words.readlines()]\n",
    "\n",
    "    \n",
    "def word_cut(word_data):\n",
    "    w = [i for i in jieba.cut(word_data) if i not in stop_word]\n",
    "    result = ' '.join(w)\n",
    "    return result\n",
    "\n",
    "ww = data.review.apply(word_cut)\n",
    "ww[:5]"
   ]
  },
  {
   "cell_type": "code",
   "execution_count": null,
   "metadata": {},
   "outputs": [],
   "source": []
  },
  {
   "cell_type": "code",
   "execution_count": null,
   "metadata": {},
   "outputs": [],
   "source": []
  },
  {
   "cell_type": "code",
   "execution_count": 4,
   "metadata": {},
   "outputs": [
    {
     "data": {
      "text/plain": [
       "(11987, 9037)"
      ]
     },
     "execution_count": 4,
     "metadata": {},
     "output_type": "execute_result"
    }
   ],
   "source": [
    "# 向量化\n",
    "cv=TfidfVectorizer(binary=False,decode_error='ignore',stop_words='english')\n",
    "word_tf=cv.fit_transform(ww).toarray()#传入句子组成的list\n",
    "word_tf.shape"
   ]
  },
  {
   "cell_type": "code",
   "execution_count": null,
   "metadata": {},
   "outputs": [],
   "source": []
  },
  {
   "cell_type": "code",
   "execution_count": 5,
   "metadata": {},
   "outputs": [],
   "source": [
    "# from sklearn.decomposition import PCA\n",
    "# pca = PCA(n_components=5)\n",
    "# word_tf = pca.fit_transform(word_tf)"
   ]
  },
  {
   "cell_type": "code",
   "execution_count": 6,
   "metadata": {},
   "outputs": [],
   "source": [
    "x_train,x_test,y_train,y_test = train_test_split(word_tf,data.label,test_size=0.2,random_state=0)\n"
   ]
  },
  {
   "cell_type": "code",
   "execution_count": 7,
   "metadata": {},
   "outputs": [
    {
     "data": {
      "text/plain": [
       "(9589, 9589)"
      ]
     },
     "execution_count": 7,
     "metadata": {},
     "output_type": "execute_result"
    }
   ],
   "source": [
    "(len(x_train),len(y_train))"
   ]
  },
  {
   "cell_type": "code",
   "execution_count": 8,
   "metadata": {},
   "outputs": [
    {
     "data": {
      "text/plain": [
       "array([1, 0, 0, ..., 0, 0, 0], dtype=int64)"
      ]
     },
     "execution_count": 8,
     "metadata": {},
     "output_type": "execute_result"
    }
   ],
   "source": [
    "svm_model = svm.LinearSVC()\n",
    "svm_model.fit(x_train,y_train)\n",
    "y_predict = svm_model.predict(x_test)\n",
    "y_predict"
   ]
  },
  {
   "cell_type": "code",
   "execution_count": 9,
   "metadata": {},
   "outputs": [
    {
     "name": "stdout",
     "output_type": "stream",
     "text": [
      "SVM模型的准确率为：\n",
      " 0.8386155129274395\n",
      "SVM模型的评估报告：\n",
      "              precision    recall  f1-score   support\n",
      "\n",
      "          0       0.86      0.90      0.88      1582\n",
      "          1       0.79      0.71      0.75       816\n",
      "\n",
      "avg / total       0.84      0.84      0.84      2398\n",
      "\n"
     ]
    }
   ],
   "source": [
    "print('SVM模型的准确率为：\\n',accuracy_score(y_test, y_predict))\n",
    "print('SVM模型的评估报告：\\n',classification_report(y_test, y_predict))"
   ]
  },
  {
   "cell_type": "code",
   "execution_count": null,
   "metadata": {},
   "outputs": [],
   "source": []
  },
  {
   "cell_type": "code",
   "execution_count": null,
   "metadata": {},
   "outputs": [],
   "source": []
  }
 ],
 "metadata": {
  "kernelspec": {
   "display_name": "Python 3",
   "language": "python",
   "name": "python3"
  },
  "language_info": {
   "codemirror_mode": {
    "name": "ipython",
    "version": 3
   },
   "file_extension": ".py",
   "mimetype": "text/x-python",
   "name": "python",
   "nbconvert_exporter": "python",
   "pygments_lexer": "ipython3",
   "version": "3.7.0"
  }
 },
 "nbformat": 4,
 "nbformat_minor": 2
}
