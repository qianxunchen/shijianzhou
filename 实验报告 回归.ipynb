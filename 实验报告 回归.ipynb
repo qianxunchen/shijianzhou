{
 "cells": [
  {
   "cell_type": "markdown",
   "metadata": {},
   "source": [
    "# 线性回归"
   ]
  },
  {
   "cell_type": "code",
   "execution_count": 26,
   "metadata": {},
   "outputs": [
    {
     "data": {
      "text/html": [
       "<div>\n",
       "<style scoped>\n",
       "    .dataframe tbody tr th:only-of-type {\n",
       "        vertical-align: middle;\n",
       "    }\n",
       "\n",
       "    .dataframe tbody tr th {\n",
       "        vertical-align: top;\n",
       "    }\n",
       "\n",
       "    .dataframe thead th {\n",
       "        text-align: right;\n",
       "    }\n",
       "</style>\n",
       "<table border=\"1\" class=\"dataframe\">\n",
       "  <thead>\n",
       "    <tr style=\"text-align: right;\">\n",
       "      <th></th>\n",
       "      <th>Unnamed: 0</th>\n",
       "      <th>Feature_1</th>\n",
       "      <th>Feature_2</th>\n",
       "      <th>Feature_3</th>\n",
       "      <th>Feature_4</th>\n",
       "      <th>Feature_5</th>\n",
       "      <th>Feature_6</th>\n",
       "      <th>Feature_7</th>\n",
       "      <th>Feature_8</th>\n",
       "      <th>Lable</th>\n",
       "    </tr>\n",
       "  </thead>\n",
       "  <tbody>\n",
       "    <tr>\n",
       "      <th>0</th>\n",
       "      <td>0.000000</td>\n",
       "      <td>0.580926</td>\n",
       "      <td>0.716085</td>\n",
       "      <td>0.560842</td>\n",
       "      <td>0.563289</td>\n",
       "      <td>0.450946</td>\n",
       "      <td>0.802762</td>\n",
       "      <td>0.777186</td>\n",
       "      <td>0.487578</td>\n",
       "      <td>0.813906</td>\n",
       "    </tr>\n",
       "    <tr>\n",
       "      <th>1</th>\n",
       "      <td>0.001001</td>\n",
       "      <td>0.489895</td>\n",
       "      <td>0.725699</td>\n",
       "      <td>0.793096</td>\n",
       "      <td>0.521171</td>\n",
       "      <td>0.332409</td>\n",
       "      <td>0.476819</td>\n",
       "      <td>0.492730</td>\n",
       "      <td>0.467490</td>\n",
       "      <td>0.535775</td>\n",
       "    </tr>\n",
       "    <tr>\n",
       "      <th>2</th>\n",
       "      <td>0.002002</td>\n",
       "      <td>0.547378</td>\n",
       "      <td>0.454809</td>\n",
       "      <td>0.532910</td>\n",
       "      <td>0.731531</td>\n",
       "      <td>0.449368</td>\n",
       "      <td>0.282618</td>\n",
       "      <td>0.751812</td>\n",
       "      <td>0.077184</td>\n",
       "      <td>0.306897</td>\n",
       "    </tr>\n",
       "    <tr>\n",
       "      <th>3</th>\n",
       "      <td>0.003003</td>\n",
       "      <td>0.747929</td>\n",
       "      <td>0.544565</td>\n",
       "      <td>0.353476</td>\n",
       "      <td>0.533109</td>\n",
       "      <td>0.594280</td>\n",
       "      <td>0.790259</td>\n",
       "      <td>0.346485</td>\n",
       "      <td>0.622570</td>\n",
       "      <td>0.620676</td>\n",
       "    </tr>\n",
       "    <tr>\n",
       "      <th>4</th>\n",
       "      <td>0.004004</td>\n",
       "      <td>0.727106</td>\n",
       "      <td>0.319965</td>\n",
       "      <td>0.592861</td>\n",
       "      <td>0.563628</td>\n",
       "      <td>0.467610</td>\n",
       "      <td>0.434912</td>\n",
       "      <td>0.412091</td>\n",
       "      <td>0.610174</td>\n",
       "      <td>0.439704</td>\n",
       "    </tr>\n",
       "  </tbody>\n",
       "</table>\n",
       "</div>"
      ],
      "text/plain": [
       "   Unnamed: 0  Feature_1  Feature_2  Feature_3  Feature_4  Feature_5  \\\n",
       "0    0.000000   0.580926   0.716085   0.560842   0.563289   0.450946   \n",
       "1    0.001001   0.489895   0.725699   0.793096   0.521171   0.332409   \n",
       "2    0.002002   0.547378   0.454809   0.532910   0.731531   0.449368   \n",
       "3    0.003003   0.747929   0.544565   0.353476   0.533109   0.594280   \n",
       "4    0.004004   0.727106   0.319965   0.592861   0.563628   0.467610   \n",
       "\n",
       "   Feature_6  Feature_7  Feature_8     Lable  \n",
       "0   0.802762   0.777186   0.487578  0.813906  \n",
       "1   0.476819   0.492730   0.467490  0.535775  \n",
       "2   0.282618   0.751812   0.077184  0.306897  \n",
       "3   0.790259   0.346485   0.622570  0.620676  \n",
       "4   0.434912   0.412091   0.610174  0.439704  "
      ]
     },
     "execution_count": 26,
     "metadata": {},
     "output_type": "execute_result"
    }
   ],
   "source": [
    "import pandas as pd\n",
    "import numpy as np\n",
    "import matplotlib.pyplot as plt\n",
    "import seaborn as sns\n",
    "# 内嵌画图，直接在输出画图\n",
    "%matplotlib inline\n",
    "data = pd.read_csv(\"data/实验报告数据/data_regression.csv\")\n",
    "# # 对特征进行归一化\n",
    "data = (data-data.min())/(data.max()-data.min())\n",
    "data.head()"
   ]
  },
  {
   "cell_type": "code",
   "execution_count": 27,
   "metadata": {},
   "outputs": [],
   "source": [
    "# 分割数据,分为训练集,测试集\n",
    "from sklearn.model_selection import train_test_split\n",
    "\n",
    "X = data.iloc[:,[1,2,3,4,5,6,7,8]]\n",
    "\n",
    "\n",
    "Y = data.iloc[:,-1]\n",
    "x_train,x_test,y_train,y_test = train_test_split(X,Y,test_size=0.4,random_state=0)"
   ]
  },
  {
   "cell_type": "code",
   "execution_count": 28,
   "metadata": {},
   "outputs": [
    {
     "data": {
      "text/html": [
       "<div>\n",
       "<style scoped>\n",
       "    .dataframe tbody tr th:only-of-type {\n",
       "        vertical-align: middle;\n",
       "    }\n",
       "\n",
       "    .dataframe tbody tr th {\n",
       "        vertical-align: top;\n",
       "    }\n",
       "\n",
       "    .dataframe thead th {\n",
       "        text-align: right;\n",
       "    }\n",
       "</style>\n",
       "<table border=\"1\" class=\"dataframe\">\n",
       "  <thead>\n",
       "    <tr style=\"text-align: right;\">\n",
       "      <th></th>\n",
       "      <th>Feature_1</th>\n",
       "      <th>Feature_2</th>\n",
       "      <th>Feature_3</th>\n",
       "      <th>Feature_4</th>\n",
       "      <th>Feature_5</th>\n",
       "      <th>Feature_6</th>\n",
       "      <th>Feature_7</th>\n",
       "      <th>Feature_8</th>\n",
       "    </tr>\n",
       "  </thead>\n",
       "  <tbody>\n",
       "    <tr>\n",
       "      <th>0</th>\n",
       "      <td>0.580926</td>\n",
       "      <td>0.716085</td>\n",
       "      <td>0.560842</td>\n",
       "      <td>0.563289</td>\n",
       "      <td>0.450946</td>\n",
       "      <td>0.802762</td>\n",
       "      <td>0.777186</td>\n",
       "      <td>0.487578</td>\n",
       "    </tr>\n",
       "    <tr>\n",
       "      <th>1</th>\n",
       "      <td>0.489895</td>\n",
       "      <td>0.725699</td>\n",
       "      <td>0.793096</td>\n",
       "      <td>0.521171</td>\n",
       "      <td>0.332409</td>\n",
       "      <td>0.476819</td>\n",
       "      <td>0.492730</td>\n",
       "      <td>0.467490</td>\n",
       "    </tr>\n",
       "    <tr>\n",
       "      <th>2</th>\n",
       "      <td>0.547378</td>\n",
       "      <td>0.454809</td>\n",
       "      <td>0.532910</td>\n",
       "      <td>0.731531</td>\n",
       "      <td>0.449368</td>\n",
       "      <td>0.282618</td>\n",
       "      <td>0.751812</td>\n",
       "      <td>0.077184</td>\n",
       "    </tr>\n",
       "    <tr>\n",
       "      <th>3</th>\n",
       "      <td>0.747929</td>\n",
       "      <td>0.544565</td>\n",
       "      <td>0.353476</td>\n",
       "      <td>0.533109</td>\n",
       "      <td>0.594280</td>\n",
       "      <td>0.790259</td>\n",
       "      <td>0.346485</td>\n",
       "      <td>0.622570</td>\n",
       "    </tr>\n",
       "    <tr>\n",
       "      <th>4</th>\n",
       "      <td>0.727106</td>\n",
       "      <td>0.319965</td>\n",
       "      <td>0.592861</td>\n",
       "      <td>0.563628</td>\n",
       "      <td>0.467610</td>\n",
       "      <td>0.434912</td>\n",
       "      <td>0.412091</td>\n",
       "      <td>0.610174</td>\n",
       "    </tr>\n",
       "  </tbody>\n",
       "</table>\n",
       "</div>"
      ],
      "text/plain": [
       "   Feature_1  Feature_2  Feature_3  Feature_4  Feature_5  Feature_6  \\\n",
       "0   0.580926   0.716085   0.560842   0.563289   0.450946   0.802762   \n",
       "1   0.489895   0.725699   0.793096   0.521171   0.332409   0.476819   \n",
       "2   0.547378   0.454809   0.532910   0.731531   0.449368   0.282618   \n",
       "3   0.747929   0.544565   0.353476   0.533109   0.594280   0.790259   \n",
       "4   0.727106   0.319965   0.592861   0.563628   0.467610   0.434912   \n",
       "\n",
       "   Feature_7  Feature_8  \n",
       "0   0.777186   0.487578  \n",
       "1   0.492730   0.467490  \n",
       "2   0.751812   0.077184  \n",
       "3   0.346485   0.622570  \n",
       "4   0.412091   0.610174  "
      ]
     },
     "execution_count": 28,
     "metadata": {},
     "output_type": "execute_result"
    }
   ],
   "source": [
    "X.head()"
   ]
  },
  {
   "cell_type": "code",
   "execution_count": 29,
   "metadata": {},
   "outputs": [
    {
     "data": {
      "image/png": "[encoded data removed]",
      "text/plain": [
       "<Figure size 360x360 with 1 Axes>"
      ]
     },
     "metadata": {
      "needs_background": "light"
     },
     "output_type": "display_data"
    }
   ],
   "source": [
    "# 绘制训练集散点图\n",
    "sns.lmplot(x = 'Feature_5',y = 'Lable',data = data)\n",
    "plt.show()"
   ]
  },
  {
   "cell_type": "code",
   "execution_count": 30,
   "metadata": {},
   "outputs": [],
   "source": [
    "# 导入sklearn的线性回归模型/\n",
    "from sklearn.linear_model import LinearRegression\n",
    "line = LinearRegression()\n",
    "# 训练模型\n",
    "lin = line.fit(x_train,y_train)"
   ]
  },
  {
   "cell_type": "code",
   "execution_count": 31,
   "metadata": {},
   "outputs": [],
   "source": [
    "# 获取预测值\n",
    "Y_pre = lin.predict(x_test)"
   ]
  },
  {
   "cell_type": "code",
   "execution_count": 32,
   "metadata": {},
   "outputs": [
    {
     "name": "stdout",
     "output_type": "stream",
     "text": [
      "MSE值为:2.1657891629410286e-06\n"
     ]
    }
   ],
   "source": [
    "# 计算MSE值\n",
    "from sklearn.metrics import mean_squared_error\n",
    "MSE = mean_squared_error(y_test,Y_pre)\n",
    "print(\"MSE值为:%s\" % MSE)"
   ]
  },
  {
   "cell_type": "markdown",
   "metadata": {},
   "source": [
    "# KNN"
   ]
  },
  {
   "cell_type": "code",
   "execution_count": 55,
   "metadata": {},
   "outputs": [],
   "source": [
    "import pandas as pd\n",
    "import numpy as np\n",
    "# 导入模型,训练KNN模型\n",
    "from sklearn.neighbors import KNeighborsRegressor\n",
    "from sklearn.preprocessing import minmax_scale"
   ]
  },
  {
   "cell_type": "code",
   "execution_count": 69,
   "metadata": {},
   "outputs": [
    {
     "data": {
      "text/html": [
       "<div>\n",
       "<style scoped>\n",
       "    .dataframe tbody tr th:only-of-type {\n",
       "        vertical-align: middle;\n",
       "    }\n",
       "\n",
       "    .dataframe tbody tr th {\n",
       "        vertical-align: top;\n",
       "    }\n",
       "\n",
       "    .dataframe thead th {\n",
       "        text-align: right;\n",
       "    }\n",
       "</style>\n",
       "<table border=\"1\" class=\"dataframe\">\n",
       "  <thead>\n",
       "    <tr style=\"text-align: right;\">\n",
       "      <th></th>\n",
       "      <th>Unnamed: 0</th>\n",
       "      <th>Feature_1</th>\n",
       "      <th>Feature_2</th>\n",
       "      <th>Feature_3</th>\n",
       "      <th>Feature_4</th>\n",
       "      <th>Feature_5</th>\n",
       "      <th>Feature_6</th>\n",
       "      <th>Feature_7</th>\n",
       "      <th>Feature_8</th>\n",
       "      <th>Lable</th>\n",
       "    </tr>\n",
       "  </thead>\n",
       "  <tbody>\n",
       "    <tr>\n",
       "      <th>0</th>\n",
       "      <td>-1.729454</td>\n",
       "      <td>0.293068</td>\n",
       "      <td>1.174219</td>\n",
       "      <td>-0.100560</td>\n",
       "      <td>0.310209</td>\n",
       "      <td>-0.203658</td>\n",
       "      <td>1.574810</td>\n",
       "      <td>1.558834</td>\n",
       "      <td>-0.180862</td>\n",
       "      <td>1.657821</td>\n",
       "    </tr>\n",
       "    <tr>\n",
       "      <th>1</th>\n",
       "      <td>-1.725992</td>\n",
       "      <td>-0.341470</td>\n",
       "      <td>1.233028</td>\n",
       "      <td>1.381728</td>\n",
       "      <td>0.057387</td>\n",
       "      <td>-1.015913</td>\n",
       "      <td>-0.229175</td>\n",
       "      <td>-0.340634</td>\n",
       "      <td>-0.307417</td>\n",
       "      <td>0.056336</td>\n",
       "    </tr>\n",
       "    <tr>\n",
       "      <th>2</th>\n",
       "      <td>-1.722530</td>\n",
       "      <td>0.059219</td>\n",
       "      <td>-0.424103</td>\n",
       "      <td>-0.278824</td>\n",
       "      <td>1.320111</td>\n",
       "      <td>-0.214469</td>\n",
       "      <td>-1.304012</td>\n",
       "      <td>1.389404</td>\n",
       "      <td>-2.766366</td>\n",
       "      <td>-1.261553</td>\n",
       "    </tr>\n",
       "    <tr>\n",
       "      <th>3</th>\n",
       "      <td>-1.719067</td>\n",
       "      <td>1.457168</td>\n",
       "      <td>0.124966</td>\n",
       "      <td>-1.424006</td>\n",
       "      <td>0.129049</td>\n",
       "      <td>0.778515</td>\n",
       "      <td>1.505606</td>\n",
       "      <td>-1.317193</td>\n",
       "      <td>0.669592</td>\n",
       "      <td>0.545196</td>\n",
       "    </tr>\n",
       "    <tr>\n",
       "      <th>4</th>\n",
       "      <td>-1.715605</td>\n",
       "      <td>1.312019</td>\n",
       "      <td>-1.248995</td>\n",
       "      <td>0.103792</td>\n",
       "      <td>0.312245</td>\n",
       "      <td>-0.089470</td>\n",
       "      <td>-0.461118</td>\n",
       "      <td>-0.879108</td>\n",
       "      <td>0.591495</td>\n",
       "      <td>-0.496846</td>\n",
       "    </tr>\n",
       "  </tbody>\n",
       "</table>\n",
       "</div>"
      ],
      "text/plain": [
       "   Unnamed: 0  Feature_1  Feature_2  Feature_3  Feature_4  Feature_5  \\\n",
       "0   -1.729454   0.293068   1.174219  -0.100560   0.310209  -0.203658   \n",
       "1   -1.725992  -0.341470   1.233028   1.381728   0.057387  -1.015913   \n",
       "2   -1.722530   0.059219  -0.424103  -0.278824   1.320111  -0.214469   \n",
       "3   -1.719067   1.457168   0.124966  -1.424006   0.129049   0.778515   \n",
       "4   -1.715605   1.312019  -1.248995   0.103792   0.312245  -0.089470   \n",
       "\n",
       "   Feature_6  Feature_7  Feature_8     Lable  \n",
       "0   1.574810   1.558834  -0.180862  1.657821  \n",
       "1  -0.229175  -0.340634  -0.307417  0.056336  \n",
       "2  -1.304012   1.389404  -2.766366 -1.261553  \n",
       "3   1.505606  -1.317193   0.669592  0.545196  \n",
       "4  -0.461118  -0.879108   0.591495 -0.496846  "
      ]
     },
     "execution_count": 69,
     "metadata": {},
     "output_type": "execute_result"
    }
   ],
   "source": [
    "# 导入数据\n",
    "data = pd.read_csv(\"data/实验报告数据/data_regression.csv\")\n",
    "# 标准化\n",
    "data=(data - data.mean()) / (data.std())\n",
    "# data = pd.DataFrame(minmax_scale(data))\n",
    "data.head()"
   ]
  },
  {
   "cell_type": "code",
   "execution_count": 70,
   "metadata": {},
   "outputs": [],
   "source": [
    "# 分割数据,分为训练集,测试集\n",
    "# test_size:测试集占比\n",
    "from sklearn.preprocessing import minmax_scale  #归一化库\n",
    "from sklearn.model_selection import train_test_split\n",
    "\n",
    "X = data.iloc[:,[1,2,3,4,5,6,7,8]]\n",
    "\n",
    "Y = data.iloc[:,-1]\n",
    "x_train,x_test,y_train,y_test = train_test_split(X,Y,test_size=0.3,random_state=0)"
   ]
  },
  {
   "cell_type": "code",
   "execution_count": 64,
   "metadata": {},
   "outputs": [],
   "source": [
    "\n",
    "# from sklearn.neighbors import KNeighborsRegressor\n",
    "# # 遍历k,寻找最优k值\n",
    "# from sklearn.model_selection import cross_val_score\n",
    "# import matplotlib.pyplot as plt\n",
    "# # 中文和负号的正常显示\n",
    "# plt.rcParams['font.sans-serif'] = ['SimHei']  # 用来正常显示中文标签\n",
    "# plt.rcParams['axes.unicode_minus'] = False  # 用来正常显示负号\n",
    "\n",
    "# K = np.arange(1,np.ceil(np.log2(data.shape[0]))).astype('int').tolist()\n",
    "# score_list =[]\n",
    "# for i in K:\n",
    "#     score = cross_val_score(KNeighborsRegressor(i,weights='distance'),x_train,y_train,cv=10,scoring='neg_mean_squared_error').mean()\n",
    "#     score_list.append(-1*score)\n",
    "# plt.figure(figsize=[8,4])\n",
    "\n",
    "# plt.plot(K,score_list)\n",
    "# # 最佳K值\n",
    "# arg_min = np.array(score_list).argmin()\n",
    "# plt.text(K[arg_min], score_list[arg_min] + 300, '最佳k值为%s' %int(K[arg_min]))\n",
    "# plt.show()"
   ]
  },
  {
   "cell_type": "code",
   "execution_count": 36,
   "metadata": {},
   "outputs": [
    {
     "name": "stdout",
     "output_type": "stream",
     "text": [
      "最优参数：\n"
     ]
    },
    {
     "data": {
      "text/plain": [
       "{'n_neighbors': 7}"
      ]
     },
     "execution_count": 36,
     "metadata": {},
     "output_type": "execute_result"
    }
   ],
   "source": [
    "# 网格搜索寻找最优参数K\n",
    "from sklearn.model_selection import GridSearchCV\n",
    "n_neighbors = range(1,10)\n",
    "tips = {\"n_neighbors\":n_neighbors}\n",
    "gr = GridSearchCV(KNeighborsRegressor(),tips).fit(x_train,y_train)\n",
    "print(\"最优参数：\")\n",
    "gr.best_params_"
   ]
  },
  {
   "cell_type": "code",
   "execution_count": 71,
   "metadata": {},
   "outputs": [],
   "source": [
    "knn = KNeighborsRegressor(n_neighbors=7)\n",
    "knn.fit(x_train,y_train)\n",
    "Y_pre = knn.predict(x_test)"
   ]
  },
  {
   "cell_type": "code",
   "execution_count": 72,
   "metadata": {},
   "outputs": [
    {
     "name": "stdout",
     "output_type": "stream",
     "text": [
      "MSE值为:0.1281965908245418\n"
     ]
    }
   ],
   "source": [
    "# 计算MSE值\n",
    "from sklearn.metrics import mean_squared_error\n",
    "MSE = mean_squared_error(y_test,Y_pre)\n",
    "print(\"MSE值为:%s\" % MSE)"
   ]
  },
  {
   "cell_type": "markdown",
   "metadata": {},
   "source": [
    "# 随机森林"
   ]
  },
  {
   "cell_type": "code",
   "execution_count": 40,
   "metadata": {},
   "outputs": [],
   "source": [
    "import pandas as pd\n",
    "import numpy as np\n",
    "# 导入第三方库\n",
    "from sklearn.ensemble import RandomForestRegressor\n"
   ]
  },
  {
   "cell_type": "code",
   "execution_count": 49,
   "metadata": {},
   "outputs": [],
   "source": [
    "data = pd.read_csv(\"data/实验报告数据/data_regression.csv\")\n",
    "# 特征标准化\n",
    "data=(data - data.mean()) / (data.std())\n",
    "# 分割数据,分为训练集,测试集\n",
    "# test_size:测试集占比\n",
    "from sklearn.model_selection import train_test_split\n",
    "\n",
    "X = data.iloc[:,[1,2,3,4,5,6,7,8]]\n",
    "Y = data.iloc[:,-1]\n",
    "x_train,x_test,y_train,y_test = train_test_split(X,Y,test_size=0.3,random_state=0)\n",
    "# x_test.tail()"
   ]
  },
  {
   "cell_type": "code",
   "execution_count": null,
   "metadata": {},
   "outputs": [],
   "source": []
  },
  {
   "cell_type": "code",
   "execution_count": 50,
   "metadata": {},
   "outputs": [
    {
     "name": "stdout",
     "output_type": "stream",
     "text": [
      "最优参数：\n"
     ]
    },
    {
     "data": {
      "text/plain": [
       "{'n_estimators': 57}"
      ]
     },
     "execution_count": 50,
     "metadata": {},
     "output_type": "execute_result"
    }
   ],
   "source": [
    "# 网格搜索\n",
    "from sklearn.model_selection import GridSearchCV\n",
    "n_estimators = range(10,100)\n",
    "tips = {\"n_estimators\":n_estimators}\n",
    "gr = GridSearchCV(RandomForestRegressor(),tips).fit(x_train,y_train)\n",
    "print(\"最优参数：\")\n",
    "gr.best_params_"
   ]
  },
  {
   "cell_type": "code",
   "execution_count": 51,
   "metadata": {},
   "outputs": [],
   "source": [
    "\n",
    "ran = RandomForestRegressor(n_estimators=57,criterion=\"mse\")\n",
    "ran.fit(x_train,y_train)\n",
    "Y_pre = ran.predict(x_test)"
   ]
  },
  {
   "cell_type": "code",
   "execution_count": 52,
   "metadata": {},
   "outputs": [
    {
     "name": "stdout",
     "output_type": "stream",
     "text": [
      "0.1335694038119807\n"
     ]
    }
   ],
   "source": [
    "from sklearn.metrics import mean_squared_error\n",
    "MSE = mean_squared_error(y_test,Y_pre)\n",
    "print(MSE)"
   ]
  },
  {
   "cell_type": "code",
   "execution_count": 18,
   "metadata": {},
   "outputs": [
    {
     "data": {
      "text/html": [
       "<div>\n",
       "<style scoped>\n",
       "    .dataframe tbody tr th:only-of-type {\n",
       "        vertical-align: middle;\n",
       "    }\n",
       "\n",
       "    .dataframe tbody tr th {\n",
       "        vertical-align: top;\n",
       "    }\n",
       "\n",
       "    .dataframe thead th {\n",
       "        text-align: right;\n",
       "    }\n",
       "</style>\n",
       "<table border=\"1\" class=\"dataframe\">\n",
       "  <thead>\n",
       "    <tr style=\"text-align: right;\">\n",
       "      <th></th>\n",
       "      <th>原来</th>\n",
       "      <th>预测</th>\n",
       "    </tr>\n",
       "  </thead>\n",
       "  <tbody>\n",
       "    <tr>\n",
       "      <th>81</th>\n",
       "      <td>-0.497244</td>\n",
       "      <td>-0.384487</td>\n",
       "    </tr>\n",
       "    <tr>\n",
       "      <th>18</th>\n",
       "      <td>-2.415368</td>\n",
       "      <td>-1.556101</td>\n",
       "    </tr>\n",
       "    <tr>\n",
       "      <th>477</th>\n",
       "      <td>-0.645512</td>\n",
       "      <td>-0.386545</td>\n",
       "    </tr>\n",
       "    <tr>\n",
       "      <th>3</th>\n",
       "      <td>0.545196</td>\n",
       "      <td>0.170327</td>\n",
       "    </tr>\n",
       "    <tr>\n",
       "      <th>274</th>\n",
       "      <td>0.347705</td>\n",
       "      <td>-0.102034</td>\n",
       "    </tr>\n",
       "    <tr>\n",
       "      <th>...</th>\n",
       "      <td>...</td>\n",
       "      <td>...</td>\n",
       "    </tr>\n",
       "    <tr>\n",
       "      <th>753</th>\n",
       "      <td>-0.444270</td>\n",
       "      <td>-0.088084</td>\n",
       "    </tr>\n",
       "    <tr>\n",
       "      <th>848</th>\n",
       "      <td>-0.183001</td>\n",
       "      <td>-0.267833</td>\n",
       "    </tr>\n",
       "    <tr>\n",
       "      <th>562</th>\n",
       "      <td>0.417514</td>\n",
       "      <td>0.092768</td>\n",
       "    </tr>\n",
       "    <tr>\n",
       "      <th>94</th>\n",
       "      <td>-1.685796</td>\n",
       "      <td>-0.831145</td>\n",
       "    </tr>\n",
       "    <tr>\n",
       "      <th>579</th>\n",
       "      <td>-2.873116</td>\n",
       "      <td>-1.775146</td>\n",
       "    </tr>\n",
       "  </tbody>\n",
       "</table>\n",
       "<p>300 rows × 2 columns</p>\n",
       "</div>"
      ],
      "text/plain": [
       "           原来        预测\n",
       "81  -0.497244 -0.384487\n",
       "18  -2.415368 -1.556101\n",
       "477 -0.645512 -0.386545\n",
       "3    0.545196  0.170327\n",
       "274  0.347705 -0.102034\n",
       "..        ...       ...\n",
       "753 -0.444270 -0.088084\n",
       "848 -0.183001 -0.267833\n",
       "562  0.417514  0.092768\n",
       "94  -1.685796 -0.831145\n",
       "579 -2.873116 -1.775146\n",
       "\n",
       "[300 rows x 2 columns]"
      ]
     },
     "execution_count": 18,
     "metadata": {},
     "output_type": "execute_result"
    }
   ],
   "source": [
    "df = pd.DataFrame({\"原来\":y_test,\"预测\":Y_pre})\n",
    "df"
   ]
  },
  {
   "cell_type": "code",
   "execution_count": null,
   "metadata": {},
   "outputs": [],
   "source": []
  },
  {
   "cell_type": "code",
   "execution_count": null,
   "metadata": {},
   "outputs": [],
   "source": []
  }
 ],
 "metadata": {
  "kernelspec": {
   "display_name": "Python 3",
   "language": "python",
   "name": "python3"
  },
  "language_info": {
   "codemirror_mode": {
    "name": "ipython",
    "version": 3
   },
   "file_extension": ".py",
   "mimetype": "text/x-python",
   "name": "python",
   "nbconvert_exporter": "python",
   "pygments_lexer": "ipython3",
   "version": "3.8.3"
  }
 },
 "nbformat": 4,
 "nbformat_minor": 4
}
